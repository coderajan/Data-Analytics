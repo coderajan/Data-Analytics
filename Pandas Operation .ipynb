{
 "cells": [
  {
   "cell_type": "markdown",
   "id": "a702fbeb",
   "metadata": {},
   "source": [
    "# Differnet Pandas Operation can help to reach Conclusions"
   ]
  },
  {
   "cell_type": "raw",
   "id": "72dcc1cb",
   "metadata": {},
   "source": [
    "# \"\"\"\n",
    "1 Descriptive Statistic operation \n",
    "2. Applying Functions to The data \n",
    "3. String Processing Operation \n",
    "4. Histogramming \n",
    "\n",
    "\"\"\""
   ]
  },
  {
   "cell_type": "code",
   "execution_count": 1,
   "id": "69f79d89",
   "metadata": {},
   "outputs": [],
   "source": [
    "import pandas as pd\n",
    "import numpy as np"
   ]
  },
  {
   "cell_type": "code",
   "execution_count": 45,
   "id": "69912c81",
   "metadata": {},
   "outputs": [],
   "source": [
    "d=pd.date_range('20020301',periods=10)"
   ]
  },
  {
   "cell_type": "code",
   "execution_count": 3,
   "id": "aaecb8b5",
   "metadata": {},
   "outputs": [],
   "source": [
    "df=pd.DataFrame(np.random.randn(10,4),index=d,columns=['A','B','C','D'])"
   ]
  },
  {
   "cell_type": "code",
   "execution_count": 4,
   "id": "f4f49a10",
   "metadata": {},
   "outputs": [
    {
     "data": {
      "text/plain": [
       "A    0.147694\n",
       "B   -0.337715\n",
       "C   -0.134724\n",
       "D    0.050743\n",
       "dtype: float64"
      ]
     },
     "execution_count": 4,
     "metadata": {},
     "output_type": "execute_result"
    }
   ],
   "source": [
    "df.mean()\n",
    "# mean vlaue of data "
   ]
  },
  {
   "cell_type": "code",
   "execution_count": 5,
   "id": "11a8af22",
   "metadata": {},
   "outputs": [
    {
     "data": {
      "text/plain": [
       "2002-03-01   -1.020699\n",
       "2002-03-02   -0.799070\n",
       "2002-03-03    0.128476\n",
       "2002-03-04   -0.189540\n",
       "2002-03-05    0.533687\n",
       "2002-03-06    0.337254\n",
       "2002-03-07    0.174687\n",
       "2002-03-08    1.033031\n",
       "2002-03-09   -0.689550\n",
       "2002-03-10   -0.193281\n",
       "Freq: D, dtype: float64"
      ]
     },
     "execution_count": 5,
     "metadata": {},
     "output_type": "execute_result"
    }
   ],
   "source": [
    " df.mean(1)\n",
    "    # one mean vlaue of data "
   ]
  },
  {
   "cell_type": "code",
   "execution_count": 6,
   "id": "c9b7f770",
   "metadata": {},
   "outputs": [],
   "source": [
    "s=pd.Series([1,2,3,np.nan,4,5,6,7,8,9],index=d).shift(2)"
   ]
  },
  {
   "cell_type": "code",
   "execution_count": 7,
   "id": "db8720d1",
   "metadata": {},
   "outputs": [
    {
     "data": {
      "text/plain": [
       "2002-03-01    NaN\n",
       "2002-03-02    NaN\n",
       "2002-03-03    1.0\n",
       "2002-03-04    2.0\n",
       "2002-03-05    3.0\n",
       "2002-03-06    NaN\n",
       "2002-03-07    4.0\n",
       "2002-03-08    5.0\n",
       "2002-03-09    6.0\n",
       "2002-03-10    7.0\n",
       "Freq: D, dtype: float64"
      ]
     },
     "execution_count": 7,
     "metadata": {},
     "output_type": "execute_result"
    }
   ],
   "source": [
    "s"
   ]
  },
  {
   "cell_type": "code",
   "execution_count": 8,
   "id": "64aad3fd",
   "metadata": {},
   "outputs": [
    {
     "data": {
      "text/html": [
       "<div>\n",
       "<style scoped>\n",
       "    .dataframe tbody tr th:only-of-type {\n",
       "        vertical-align: middle;\n",
       "    }\n",
       "\n",
       "    .dataframe tbody tr th {\n",
       "        vertical-align: top;\n",
       "    }\n",
       "\n",
       "    .dataframe thead th {\n",
       "        text-align: right;\n",
       "    }\n",
       "</style>\n",
       "<table border=\"1\" class=\"dataframe\">\n",
       "  <thead>\n",
       "    <tr style=\"text-align: right;\">\n",
       "      <th></th>\n",
       "      <th>A</th>\n",
       "      <th>B</th>\n",
       "      <th>C</th>\n",
       "      <th>D</th>\n",
       "    </tr>\n",
       "  </thead>\n",
       "  <tbody>\n",
       "    <tr>\n",
       "      <th>2002-03-01</th>\n",
       "      <td>NaN</td>\n",
       "      <td>NaN</td>\n",
       "      <td>NaN</td>\n",
       "      <td>NaN</td>\n",
       "    </tr>\n",
       "    <tr>\n",
       "      <th>2002-03-02</th>\n",
       "      <td>NaN</td>\n",
       "      <td>NaN</td>\n",
       "      <td>NaN</td>\n",
       "      <td>NaN</td>\n",
       "    </tr>\n",
       "    <tr>\n",
       "      <th>2002-03-03</th>\n",
       "      <td>-0.513772</td>\n",
       "      <td>-1.469389</td>\n",
       "      <td>-2.644552</td>\n",
       "      <td>1.141617</td>\n",
       "    </tr>\n",
       "    <tr>\n",
       "      <th>2002-03-04</th>\n",
       "      <td>-2.687643</td>\n",
       "      <td>-3.186405</td>\n",
       "      <td>-0.666676</td>\n",
       "      <td>-2.217435</td>\n",
       "    </tr>\n",
       "    <tr>\n",
       "      <th>2002-03-05</th>\n",
       "      <td>-2.671812</td>\n",
       "      <td>-3.367160</td>\n",
       "      <td>-1.079651</td>\n",
       "      <td>-2.746629</td>\n",
       "    </tr>\n",
       "    <tr>\n",
       "      <th>2002-03-06</th>\n",
       "      <td>NaN</td>\n",
       "      <td>NaN</td>\n",
       "      <td>NaN</td>\n",
       "      <td>NaN</td>\n",
       "    </tr>\n",
       "    <tr>\n",
       "      <th>2002-03-07</th>\n",
       "      <td>-3.015508</td>\n",
       "      <td>-3.759407</td>\n",
       "      <td>-3.386655</td>\n",
       "      <td>-5.139683</td>\n",
       "    </tr>\n",
       "    <tr>\n",
       "      <th>2002-03-08</th>\n",
       "      <td>-3.488701</td>\n",
       "      <td>-5.079952</td>\n",
       "      <td>-3.660545</td>\n",
       "      <td>-3.638677</td>\n",
       "    </tr>\n",
       "    <tr>\n",
       "      <th>2002-03-09</th>\n",
       "      <td>-7.596189</td>\n",
       "      <td>-6.259837</td>\n",
       "      <td>-7.377743</td>\n",
       "      <td>-5.524429</td>\n",
       "    </tr>\n",
       "    <tr>\n",
       "      <th>2002-03-10</th>\n",
       "      <td>-6.139230</td>\n",
       "      <td>-7.660325</td>\n",
       "      <td>-6.406356</td>\n",
       "      <td>-8.567213</td>\n",
       "    </tr>\n",
       "  </tbody>\n",
       "</table>\n",
       "</div>"
      ],
      "text/plain": [
       "                   A         B         C         D\n",
       "2002-03-01       NaN       NaN       NaN       NaN\n",
       "2002-03-02       NaN       NaN       NaN       NaN\n",
       "2002-03-03 -0.513772 -1.469389 -2.644552  1.141617\n",
       "2002-03-04 -2.687643 -3.186405 -0.666676 -2.217435\n",
       "2002-03-05 -2.671812 -3.367160 -1.079651 -2.746629\n",
       "2002-03-06       NaN       NaN       NaN       NaN\n",
       "2002-03-07 -3.015508 -3.759407 -3.386655 -5.139683\n",
       "2002-03-08 -3.488701 -5.079952 -3.660545 -3.638677\n",
       "2002-03-09 -7.596189 -6.259837 -7.377743 -5.524429\n",
       "2002-03-10 -6.139230 -7.660325 -6.406356 -8.567213"
      ]
     },
     "execution_count": 8,
     "metadata": {},
     "output_type": "execute_result"
    }
   ],
   "source": [
    "df.sub(s,axis='index')"
   ]
  },
  {
   "cell_type": "code",
   "execution_count": 9,
   "id": "6b00f990",
   "metadata": {},
   "outputs": [
    {
     "data": {
      "text/html": [
       "<div>\n",
       "<style scoped>\n",
       "    .dataframe tbody tr th:only-of-type {\n",
       "        vertical-align: middle;\n",
       "    }\n",
       "\n",
       "    .dataframe tbody tr th {\n",
       "        vertical-align: top;\n",
       "    }\n",
       "\n",
       "    .dataframe thead th {\n",
       "        text-align: right;\n",
       "    }\n",
       "</style>\n",
       "<table border=\"1\" class=\"dataframe\">\n",
       "  <thead>\n",
       "    <tr style=\"text-align: right;\">\n",
       "      <th></th>\n",
       "      <th>A</th>\n",
       "      <th>B</th>\n",
       "      <th>C</th>\n",
       "      <th>D</th>\n",
       "    </tr>\n",
       "  </thead>\n",
       "  <tbody>\n",
       "    <tr>\n",
       "      <th>2002-03-01</th>\n",
       "      <td>-0.368269</td>\n",
       "      <td>-1.770343</td>\n",
       "      <td>-2.045897</td>\n",
       "      <td>0.101712</td>\n",
       "    </tr>\n",
       "    <tr>\n",
       "      <th>2002-03-02</th>\n",
       "      <td>-0.628833</td>\n",
       "      <td>-1.775542</td>\n",
       "      <td>-4.123019</td>\n",
       "      <td>-0.751683</td>\n",
       "    </tr>\n",
       "    <tr>\n",
       "      <th>2002-03-03</th>\n",
       "      <td>-0.142605</td>\n",
       "      <td>-2.244931</td>\n",
       "      <td>-5.767571</td>\n",
       "      <td>1.389934</td>\n",
       "    </tr>\n",
       "    <tr>\n",
       "      <th>2002-03-04</th>\n",
       "      <td>-0.830249</td>\n",
       "      <td>-3.431336</td>\n",
       "      <td>-4.434247</td>\n",
       "      <td>1.172499</td>\n",
       "    </tr>\n",
       "    <tr>\n",
       "      <th>2002-03-05</th>\n",
       "      <td>-0.502061</td>\n",
       "      <td>-3.798496</td>\n",
       "      <td>-2.513898</td>\n",
       "      <td>1.425870</td>\n",
       "    </tr>\n",
       "    <tr>\n",
       "      <th>2002-03-06</th>\n",
       "      <td>-0.283434</td>\n",
       "      <td>-2.617627</td>\n",
       "      <td>-2.515943</td>\n",
       "      <td>1.377434</td>\n",
       "    </tr>\n",
       "    <tr>\n",
       "      <th>2002-03-07</th>\n",
       "      <td>0.701057</td>\n",
       "      <td>-2.377034</td>\n",
       "      <td>-1.902598</td>\n",
       "      <td>0.237752</td>\n",
       "    </tr>\n",
       "    <tr>\n",
       "      <th>2002-03-08</th>\n",
       "      <td>2.212356</td>\n",
       "      <td>-2.456985</td>\n",
       "      <td>-0.563144</td>\n",
       "      <td>1.599075</td>\n",
       "    </tr>\n",
       "    <tr>\n",
       "      <th>2002-03-09</th>\n",
       "      <td>0.616167</td>\n",
       "      <td>-2.716823</td>\n",
       "      <td>-1.940887</td>\n",
       "      <td>2.074646</td>\n",
       "    </tr>\n",
       "    <tr>\n",
       "      <th>2002-03-10</th>\n",
       "      <td>1.476937</td>\n",
       "      <td>-3.377148</td>\n",
       "      <td>-1.347243</td>\n",
       "      <td>0.507433</td>\n",
       "    </tr>\n",
       "  </tbody>\n",
       "</table>\n",
       "</div>"
      ],
      "text/plain": [
       "                   A         B         C         D\n",
       "2002-03-01 -0.368269 -1.770343 -2.045897  0.101712\n",
       "2002-03-02 -0.628833 -1.775542 -4.123019 -0.751683\n",
       "2002-03-03 -0.142605 -2.244931 -5.767571  1.389934\n",
       "2002-03-04 -0.830249 -3.431336 -4.434247  1.172499\n",
       "2002-03-05 -0.502061 -3.798496 -2.513898  1.425870\n",
       "2002-03-06 -0.283434 -2.617627 -2.515943  1.377434\n",
       "2002-03-07  0.701057 -2.377034 -1.902598  0.237752\n",
       "2002-03-08  2.212356 -2.456985 -0.563144  1.599075\n",
       "2002-03-09  0.616167 -2.716823 -1.940887  2.074646\n",
       "2002-03-10  1.476937 -3.377148 -1.347243  0.507433"
      ]
     },
     "execution_count": 9,
     "metadata": {},
     "output_type": "execute_result"
    }
   ],
   "source": [
    "df.apply(np.cumsum)"
   ]
  },
  {
   "cell_type": "code",
   "execution_count": 10,
   "id": "6a580e7c",
   "metadata": {},
   "outputs": [
    {
     "data": {
      "text/plain": [
       "A    3.107487\n",
       "B    2.951212\n",
       "C    3.997472\n",
       "D    3.708830\n",
       "dtype: float64"
      ]
     },
     "execution_count": 10,
     "metadata": {},
     "output_type": "execute_result"
    }
   ],
   "source": [
    "df.apply(lambda x:x.max()-x.min())"
   ]
  },
  {
   "cell_type": "code",
   "execution_count": 11,
   "id": "c7b8200e",
   "metadata": {},
   "outputs": [],
   "source": [
    "# Histrogram"
   ]
  },
  {
   "cell_type": "code",
   "execution_count": 12,
   "id": "9a7736d7",
   "metadata": {},
   "outputs": [
    {
     "data": {
      "text/plain": [
       "1.0    1\n",
       "2.0    1\n",
       "3.0    1\n",
       "4.0    1\n",
       "5.0    1\n",
       "6.0    1\n",
       "7.0    1\n",
       "dtype: int64"
      ]
     },
     "execution_count": 12,
     "metadata": {},
     "output_type": "execute_result"
    }
   ],
   "source": [
    "s.value_counts()"
   ]
  },
  {
   "cell_type": "code",
   "execution_count": 13,
   "id": "d3daf982",
   "metadata": {},
   "outputs": [],
   "source": [
    "s=pd.Series(['edureka','python','jupyter',np.nan,'footbal','world'])"
   ]
  },
  {
   "cell_type": "code",
   "execution_count": 14,
   "id": "c2215667",
   "metadata": {},
   "outputs": [
    {
     "data": {
      "text/plain": [
       "0    EDUREKA\n",
       "1     PYTHON\n",
       "2    JUPYTER\n",
       "3        NaN\n",
       "4    FOOTBAL\n",
       "5      WORLD\n",
       "dtype: object"
      ]
     },
     "execution_count": 14,
     "metadata": {},
     "output_type": "execute_result"
    }
   ],
   "source": [
    "s.str.upper()"
   ]
  },
  {
   "cell_type": "code",
   "execution_count": 15,
   "id": "7a924339",
   "metadata": {},
   "outputs": [],
   "source": [
    " #mergin two data function "
   ]
  },
  {
   "cell_type": "code",
   "execution_count": 16,
   "id": "3da14ae7",
   "metadata": {},
   "outputs": [],
   "source": [
    "df=pd.DataFrame(np.random.randn(10,4))"
   ]
  },
  {
   "cell_type": "code",
   "execution_count": 17,
   "id": "e4a2e3ce",
   "metadata": {},
   "outputs": [
    {
     "data": {
      "text/html": [
       "<div>\n",
       "<style scoped>\n",
       "    .dataframe tbody tr th:only-of-type {\n",
       "        vertical-align: middle;\n",
       "    }\n",
       "\n",
       "    .dataframe tbody tr th {\n",
       "        vertical-align: top;\n",
       "    }\n",
       "\n",
       "    .dataframe thead th {\n",
       "        text-align: right;\n",
       "    }\n",
       "</style>\n",
       "<table border=\"1\" class=\"dataframe\">\n",
       "  <thead>\n",
       "    <tr style=\"text-align: right;\">\n",
       "      <th></th>\n",
       "      <th>0</th>\n",
       "      <th>1</th>\n",
       "      <th>2</th>\n",
       "      <th>3</th>\n",
       "    </tr>\n",
       "  </thead>\n",
       "  <tbody>\n",
       "    <tr>\n",
       "      <th>0</th>\n",
       "      <td>-1.079583</td>\n",
       "      <td>-0.475193</td>\n",
       "      <td>-0.181742</td>\n",
       "      <td>-0.449272</td>\n",
       "    </tr>\n",
       "    <tr>\n",
       "      <th>1</th>\n",
       "      <td>2.581877</td>\n",
       "      <td>0.860530</td>\n",
       "      <td>-0.002171</td>\n",
       "      <td>0.016323</td>\n",
       "    </tr>\n",
       "    <tr>\n",
       "      <th>2</th>\n",
       "      <td>-1.117683</td>\n",
       "      <td>0.991260</td>\n",
       "      <td>0.985119</td>\n",
       "      <td>1.571765</td>\n",
       "    </tr>\n",
       "    <tr>\n",
       "      <th>3</th>\n",
       "      <td>1.004033</td>\n",
       "      <td>-0.842217</td>\n",
       "      <td>-0.937544</td>\n",
       "      <td>-0.135676</td>\n",
       "    </tr>\n",
       "    <tr>\n",
       "      <th>4</th>\n",
       "      <td>1.181489</td>\n",
       "      <td>-1.528546</td>\n",
       "      <td>0.009891</td>\n",
       "      <td>-0.681947</td>\n",
       "    </tr>\n",
       "    <tr>\n",
       "      <th>5</th>\n",
       "      <td>-0.186114</td>\n",
       "      <td>1.542807</td>\n",
       "      <td>-1.609200</td>\n",
       "      <td>-0.006980</td>\n",
       "    </tr>\n",
       "    <tr>\n",
       "      <th>6</th>\n",
       "      <td>0.854993</td>\n",
       "      <td>0.522609</td>\n",
       "      <td>1.665262</td>\n",
       "      <td>1.110584</td>\n",
       "    </tr>\n",
       "    <tr>\n",
       "      <th>7</th>\n",
       "      <td>1.028974</td>\n",
       "      <td>1.242044</td>\n",
       "      <td>1.181569</td>\n",
       "      <td>0.989096</td>\n",
       "    </tr>\n",
       "    <tr>\n",
       "      <th>8</th>\n",
       "      <td>-1.359595</td>\n",
       "      <td>1.708289</td>\n",
       "      <td>-0.246771</td>\n",
       "      <td>-0.600426</td>\n",
       "    </tr>\n",
       "    <tr>\n",
       "      <th>9</th>\n",
       "      <td>0.253598</td>\n",
       "      <td>0.342614</td>\n",
       "      <td>-0.350628</td>\n",
       "      <td>0.335621</td>\n",
       "    </tr>\n",
       "  </tbody>\n",
       "</table>\n",
       "</div>"
      ],
      "text/plain": [
       "          0         1         2         3\n",
       "0 -1.079583 -0.475193 -0.181742 -0.449272\n",
       "1  2.581877  0.860530 -0.002171  0.016323\n",
       "2 -1.117683  0.991260  0.985119  1.571765\n",
       "3  1.004033 -0.842217 -0.937544 -0.135676\n",
       "4  1.181489 -1.528546  0.009891 -0.681947\n",
       "5 -0.186114  1.542807 -1.609200 -0.006980\n",
       "6  0.854993  0.522609  1.665262  1.110584\n",
       "7  1.028974  1.242044  1.181569  0.989096\n",
       "8 -1.359595  1.708289 -0.246771 -0.600426\n",
       "9  0.253598  0.342614 -0.350628  0.335621"
      ]
     },
     "execution_count": 17,
     "metadata": {},
     "output_type": "execute_result"
    }
   ],
   "source": [
    "df"
   ]
  },
  {
   "cell_type": "code",
   "execution_count": 18,
   "id": "6beac5bb",
   "metadata": {},
   "outputs": [],
   "source": [
    "df2=[df[:3],df[3:7],df[7:]]"
   ]
  },
  {
   "cell_type": "code",
   "execution_count": 19,
   "id": "694152e2",
   "metadata": {},
   "outputs": [
    {
     "data": {
      "text/plain": [
       "[          0         1         2         3\n",
       " 0 -1.079583 -0.475193 -0.181742 -0.449272\n",
       " 1  2.581877  0.860530 -0.002171  0.016323\n",
       " 2 -1.117683  0.991260  0.985119  1.571765,\n",
       "           0         1         2         3\n",
       " 3  1.004033 -0.842217 -0.937544 -0.135676\n",
       " 4  1.181489 -1.528546  0.009891 -0.681947\n",
       " 5 -0.186114  1.542807 -1.609200 -0.006980\n",
       " 6  0.854993  0.522609  1.665262  1.110584,\n",
       "           0         1         2         3\n",
       " 7  1.028974  1.242044  1.181569  0.989096\n",
       " 8 -1.359595  1.708289 -0.246771 -0.600426\n",
       " 9  0.253598  0.342614 -0.350628  0.335621]"
      ]
     },
     "execution_count": 19,
     "metadata": {},
     "output_type": "execute_result"
    }
   ],
   "source": [
    "df2"
   ]
  },
  {
   "cell_type": "code",
   "execution_count": 20,
   "id": "cdaa2f53",
   "metadata": {},
   "outputs": [
    {
     "data": {
      "text/html": [
       "<div>\n",
       "<style scoped>\n",
       "    .dataframe tbody tr th:only-of-type {\n",
       "        vertical-align: middle;\n",
       "    }\n",
       "\n",
       "    .dataframe tbody tr th {\n",
       "        vertical-align: top;\n",
       "    }\n",
       "\n",
       "    .dataframe thead th {\n",
       "        text-align: right;\n",
       "    }\n",
       "</style>\n",
       "<table border=\"1\" class=\"dataframe\">\n",
       "  <thead>\n",
       "    <tr style=\"text-align: right;\">\n",
       "      <th></th>\n",
       "      <th>0</th>\n",
       "      <th>1</th>\n",
       "      <th>2</th>\n",
       "      <th>3</th>\n",
       "    </tr>\n",
       "  </thead>\n",
       "  <tbody>\n",
       "    <tr>\n",
       "      <th>0</th>\n",
       "      <td>-1.079583</td>\n",
       "      <td>-0.475193</td>\n",
       "      <td>-0.181742</td>\n",
       "      <td>-0.449272</td>\n",
       "    </tr>\n",
       "    <tr>\n",
       "      <th>1</th>\n",
       "      <td>2.581877</td>\n",
       "      <td>0.860530</td>\n",
       "      <td>-0.002171</td>\n",
       "      <td>0.016323</td>\n",
       "    </tr>\n",
       "    <tr>\n",
       "      <th>2</th>\n",
       "      <td>-1.117683</td>\n",
       "      <td>0.991260</td>\n",
       "      <td>0.985119</td>\n",
       "      <td>1.571765</td>\n",
       "    </tr>\n",
       "    <tr>\n",
       "      <th>3</th>\n",
       "      <td>1.004033</td>\n",
       "      <td>-0.842217</td>\n",
       "      <td>-0.937544</td>\n",
       "      <td>-0.135676</td>\n",
       "    </tr>\n",
       "    <tr>\n",
       "      <th>4</th>\n",
       "      <td>1.181489</td>\n",
       "      <td>-1.528546</td>\n",
       "      <td>0.009891</td>\n",
       "      <td>-0.681947</td>\n",
       "    </tr>\n",
       "    <tr>\n",
       "      <th>5</th>\n",
       "      <td>-0.186114</td>\n",
       "      <td>1.542807</td>\n",
       "      <td>-1.609200</td>\n",
       "      <td>-0.006980</td>\n",
       "    </tr>\n",
       "    <tr>\n",
       "      <th>6</th>\n",
       "      <td>0.854993</td>\n",
       "      <td>0.522609</td>\n",
       "      <td>1.665262</td>\n",
       "      <td>1.110584</td>\n",
       "    </tr>\n",
       "    <tr>\n",
       "      <th>7</th>\n",
       "      <td>1.028974</td>\n",
       "      <td>1.242044</td>\n",
       "      <td>1.181569</td>\n",
       "      <td>0.989096</td>\n",
       "    </tr>\n",
       "    <tr>\n",
       "      <th>8</th>\n",
       "      <td>-1.359595</td>\n",
       "      <td>1.708289</td>\n",
       "      <td>-0.246771</td>\n",
       "      <td>-0.600426</td>\n",
       "    </tr>\n",
       "    <tr>\n",
       "      <th>9</th>\n",
       "      <td>0.253598</td>\n",
       "      <td>0.342614</td>\n",
       "      <td>-0.350628</td>\n",
       "      <td>0.335621</td>\n",
       "    </tr>\n",
       "  </tbody>\n",
       "</table>\n",
       "</div>"
      ],
      "text/plain": [
       "          0         1         2         3\n",
       "0 -1.079583 -0.475193 -0.181742 -0.449272\n",
       "1  2.581877  0.860530 -0.002171  0.016323\n",
       "2 -1.117683  0.991260  0.985119  1.571765\n",
       "3  1.004033 -0.842217 -0.937544 -0.135676\n",
       "4  1.181489 -1.528546  0.009891 -0.681947\n",
       "5 -0.186114  1.542807 -1.609200 -0.006980\n",
       "6  0.854993  0.522609  1.665262  1.110584\n",
       "7  1.028974  1.242044  1.181569  0.989096\n",
       "8 -1.359595  1.708289 -0.246771 -0.600426\n",
       "9  0.253598  0.342614 -0.350628  0.335621"
      ]
     },
     "execution_count": 20,
     "metadata": {},
     "output_type": "execute_result"
    }
   ],
   "source": [
    "pd.concat(df2)"
   ]
  },
  {
   "cell_type": "code",
   "execution_count": 21,
   "id": "756bb175",
   "metadata": {},
   "outputs": [],
   "source": [
    "left=pd.DataFrame({'A':[1,2],'B':[3,4]})"
   ]
  },
  {
   "cell_type": "code",
   "execution_count": 22,
   "id": "2fea6351",
   "metadata": {},
   "outputs": [],
   "source": [
    "right=pd.DataFrame({'A':[3,2],'D':[5,6]})"
   ]
  },
  {
   "cell_type": "code",
   "execution_count": 23,
   "id": "bd714177",
   "metadata": {},
   "outputs": [
    {
     "data": {
      "text/html": [
       "<div>\n",
       "<style scoped>\n",
       "    .dataframe tbody tr th:only-of-type {\n",
       "        vertical-align: middle;\n",
       "    }\n",
       "\n",
       "    .dataframe tbody tr th {\n",
       "        vertical-align: top;\n",
       "    }\n",
       "\n",
       "    .dataframe thead th {\n",
       "        text-align: right;\n",
       "    }\n",
       "</style>\n",
       "<table border=\"1\" class=\"dataframe\">\n",
       "  <thead>\n",
       "    <tr style=\"text-align: right;\">\n",
       "      <th></th>\n",
       "      <th>A</th>\n",
       "      <th>D</th>\n",
       "    </tr>\n",
       "  </thead>\n",
       "  <tbody>\n",
       "    <tr>\n",
       "      <th>0</th>\n",
       "      <td>3</td>\n",
       "      <td>5</td>\n",
       "    </tr>\n",
       "    <tr>\n",
       "      <th>1</th>\n",
       "      <td>2</td>\n",
       "      <td>6</td>\n",
       "    </tr>\n",
       "  </tbody>\n",
       "</table>\n",
       "</div>"
      ],
      "text/plain": [
       "   A  D\n",
       "0  3  5\n",
       "1  2  6"
      ]
     },
     "execution_count": 23,
     "metadata": {},
     "output_type": "execute_result"
    }
   ],
   "source": [
    "right"
   ]
  },
  {
   "cell_type": "code",
   "execution_count": 24,
   "id": "f4ed84b1",
   "metadata": {},
   "outputs": [
    {
     "data": {
      "text/html": [
       "<div>\n",
       "<style scoped>\n",
       "    .dataframe tbody tr th:only-of-type {\n",
       "        vertical-align: middle;\n",
       "    }\n",
       "\n",
       "    .dataframe tbody tr th {\n",
       "        vertical-align: top;\n",
       "    }\n",
       "\n",
       "    .dataframe thead th {\n",
       "        text-align: right;\n",
       "    }\n",
       "</style>\n",
       "<table border=\"1\" class=\"dataframe\">\n",
       "  <thead>\n",
       "    <tr style=\"text-align: right;\">\n",
       "      <th></th>\n",
       "      <th>A</th>\n",
       "      <th>B</th>\n",
       "    </tr>\n",
       "  </thead>\n",
       "  <tbody>\n",
       "    <tr>\n",
       "      <th>0</th>\n",
       "      <td>1</td>\n",
       "      <td>3</td>\n",
       "    </tr>\n",
       "    <tr>\n",
       "      <th>1</th>\n",
       "      <td>2</td>\n",
       "      <td>4</td>\n",
       "    </tr>\n",
       "  </tbody>\n",
       "</table>\n",
       "</div>"
      ],
      "text/plain": [
       "   A  B\n",
       "0  1  3\n",
       "1  2  4"
      ]
     },
     "execution_count": 24,
     "metadata": {},
     "output_type": "execute_result"
    }
   ],
   "source": [
    "left"
   ]
  },
  {
   "cell_type": "code",
   "execution_count": 25,
   "id": "6dd59968",
   "metadata": {},
   "outputs": [
    {
     "data": {
      "text/html": [
       "<div>\n",
       "<style scoped>\n",
       "    .dataframe tbody tr th:only-of-type {\n",
       "        vertical-align: middle;\n",
       "    }\n",
       "\n",
       "    .dataframe tbody tr th {\n",
       "        vertical-align: top;\n",
       "    }\n",
       "\n",
       "    .dataframe thead th {\n",
       "        text-align: right;\n",
       "    }\n",
       "</style>\n",
       "<table border=\"1\" class=\"dataframe\">\n",
       "  <thead>\n",
       "    <tr style=\"text-align: right;\">\n",
       "      <th></th>\n",
       "      <th>A</th>\n",
       "      <th>B</th>\n",
       "      <th>D</th>\n",
       "    </tr>\n",
       "  </thead>\n",
       "  <tbody>\n",
       "    <tr>\n",
       "      <th>0</th>\n",
       "      <td>2</td>\n",
       "      <td>4</td>\n",
       "      <td>6</td>\n",
       "    </tr>\n",
       "  </tbody>\n",
       "</table>\n",
       "</div>"
      ],
      "text/plain": [
       "   A  B  D\n",
       "0  2  4  6"
      ]
     },
     "execution_count": 25,
     "metadata": {},
     "output_type": "execute_result"
    }
   ],
   "source": [
    "pd.merge(left,right,on='A')\n",
    "# join the two left and right \n"
   ]
  },
  {
   "cell_type": "code",
   "execution_count": 26,
   "id": "10824d1e",
   "metadata": {},
   "outputs": [],
   "source": [
    "# groping data Frame \n"
   ]
  },
  {
   "cell_type": "code",
   "execution_count": 27,
   "id": "9693ce03",
   "metadata": {},
   "outputs": [
    {
     "data": {
      "text/html": [
       "<div>\n",
       "<style scoped>\n",
       "    .dataframe tbody tr th:only-of-type {\n",
       "        vertical-align: middle;\n",
       "    }\n",
       "\n",
       "    .dataframe tbody tr th {\n",
       "        vertical-align: top;\n",
       "    }\n",
       "\n",
       "    .dataframe thead th {\n",
       "        text-align: right;\n",
       "    }\n",
       "</style>\n",
       "<table border=\"1\" class=\"dataframe\">\n",
       "  <thead>\n",
       "    <tr style=\"text-align: right;\">\n",
       "      <th></th>\n",
       "      <th>0</th>\n",
       "      <th>1</th>\n",
       "      <th>2</th>\n",
       "      <th>3</th>\n",
       "    </tr>\n",
       "  </thead>\n",
       "  <tbody>\n",
       "    <tr>\n",
       "      <th>0</th>\n",
       "      <td>-1.079583</td>\n",
       "      <td>-0.475193</td>\n",
       "      <td>-0.181742</td>\n",
       "      <td>-0.449272</td>\n",
       "    </tr>\n",
       "    <tr>\n",
       "      <th>1</th>\n",
       "      <td>2.581877</td>\n",
       "      <td>0.860530</td>\n",
       "      <td>-0.002171</td>\n",
       "      <td>0.016323</td>\n",
       "    </tr>\n",
       "    <tr>\n",
       "      <th>2</th>\n",
       "      <td>-1.117683</td>\n",
       "      <td>0.991260</td>\n",
       "      <td>0.985119</td>\n",
       "      <td>1.571765</td>\n",
       "    </tr>\n",
       "    <tr>\n",
       "      <th>3</th>\n",
       "      <td>1.004033</td>\n",
       "      <td>-0.842217</td>\n",
       "      <td>-0.937544</td>\n",
       "      <td>-0.135676</td>\n",
       "    </tr>\n",
       "    <tr>\n",
       "      <th>4</th>\n",
       "      <td>1.181489</td>\n",
       "      <td>-1.528546</td>\n",
       "      <td>0.009891</td>\n",
       "      <td>-0.681947</td>\n",
       "    </tr>\n",
       "    <tr>\n",
       "      <th>5</th>\n",
       "      <td>-0.186114</td>\n",
       "      <td>1.542807</td>\n",
       "      <td>-1.609200</td>\n",
       "      <td>-0.006980</td>\n",
       "    </tr>\n",
       "    <tr>\n",
       "      <th>6</th>\n",
       "      <td>0.854993</td>\n",
       "      <td>0.522609</td>\n",
       "      <td>1.665262</td>\n",
       "      <td>1.110584</td>\n",
       "    </tr>\n",
       "    <tr>\n",
       "      <th>7</th>\n",
       "      <td>1.028974</td>\n",
       "      <td>1.242044</td>\n",
       "      <td>1.181569</td>\n",
       "      <td>0.989096</td>\n",
       "    </tr>\n",
       "    <tr>\n",
       "      <th>8</th>\n",
       "      <td>-1.359595</td>\n",
       "      <td>1.708289</td>\n",
       "      <td>-0.246771</td>\n",
       "      <td>-0.600426</td>\n",
       "    </tr>\n",
       "    <tr>\n",
       "      <th>9</th>\n",
       "      <td>0.253598</td>\n",
       "      <td>0.342614</td>\n",
       "      <td>-0.350628</td>\n",
       "      <td>0.335621</td>\n",
       "    </tr>\n",
       "  </tbody>\n",
       "</table>\n",
       "</div>"
      ],
      "text/plain": [
       "          0         1         2         3\n",
       "0 -1.079583 -0.475193 -0.181742 -0.449272\n",
       "1  2.581877  0.860530 -0.002171  0.016323\n",
       "2 -1.117683  0.991260  0.985119  1.571765\n",
       "3  1.004033 -0.842217 -0.937544 -0.135676\n",
       "4  1.181489 -1.528546  0.009891 -0.681947\n",
       "5 -0.186114  1.542807 -1.609200 -0.006980\n",
       "6  0.854993  0.522609  1.665262  1.110584\n",
       "7  1.028974  1.242044  1.181569  0.989096\n",
       "8 -1.359595  1.708289 -0.246771 -0.600426\n",
       "9  0.253598  0.342614 -0.350628  0.335621"
      ]
     },
     "execution_count": 27,
     "metadata": {},
     "output_type": "execute_result"
    }
   ],
   "source": [
    "df"
   ]
  },
  {
   "cell_type": "code",
   "execution_count": 28,
   "id": "e85518ef",
   "metadata": {},
   "outputs": [
    {
     "data": {
      "text/html": [
       "<div>\n",
       "<style scoped>\n",
       "    .dataframe tbody tr th:only-of-type {\n",
       "        vertical-align: middle;\n",
       "    }\n",
       "\n",
       "    .dataframe tbody tr th {\n",
       "        vertical-align: top;\n",
       "    }\n",
       "\n",
       "    .dataframe thead th {\n",
       "        text-align: right;\n",
       "    }\n",
       "</style>\n",
       "<table border=\"1\" class=\"dataframe\">\n",
       "  <thead>\n",
       "    <tr style=\"text-align: right;\">\n",
       "      <th></th>\n",
       "      <th>0</th>\n",
       "      <th>1</th>\n",
       "      <th>3</th>\n",
       "    </tr>\n",
       "    <tr>\n",
       "      <th>2</th>\n",
       "      <th></th>\n",
       "      <th></th>\n",
       "      <th></th>\n",
       "    </tr>\n",
       "  </thead>\n",
       "  <tbody>\n",
       "    <tr>\n",
       "      <th>-1.609200</th>\n",
       "      <td>-0.186114</td>\n",
       "      <td>1.542807</td>\n",
       "      <td>-0.006980</td>\n",
       "    </tr>\n",
       "    <tr>\n",
       "      <th>-0.937544</th>\n",
       "      <td>1.004033</td>\n",
       "      <td>-0.842217</td>\n",
       "      <td>-0.135676</td>\n",
       "    </tr>\n",
       "    <tr>\n",
       "      <th>-0.350628</th>\n",
       "      <td>0.253598</td>\n",
       "      <td>0.342614</td>\n",
       "      <td>0.335621</td>\n",
       "    </tr>\n",
       "    <tr>\n",
       "      <th>-0.246771</th>\n",
       "      <td>-1.359595</td>\n",
       "      <td>1.708289</td>\n",
       "      <td>-0.600426</td>\n",
       "    </tr>\n",
       "    <tr>\n",
       "      <th>-0.181742</th>\n",
       "      <td>-1.079583</td>\n",
       "      <td>-0.475193</td>\n",
       "      <td>-0.449272</td>\n",
       "    </tr>\n",
       "    <tr>\n",
       "      <th>-0.002171</th>\n",
       "      <td>2.581877</td>\n",
       "      <td>0.860530</td>\n",
       "      <td>0.016323</td>\n",
       "    </tr>\n",
       "    <tr>\n",
       "      <th>0.009891</th>\n",
       "      <td>1.181489</td>\n",
       "      <td>-1.528546</td>\n",
       "      <td>-0.681947</td>\n",
       "    </tr>\n",
       "    <tr>\n",
       "      <th>0.985119</th>\n",
       "      <td>-1.117683</td>\n",
       "      <td>0.991260</td>\n",
       "      <td>1.571765</td>\n",
       "    </tr>\n",
       "    <tr>\n",
       "      <th>1.181569</th>\n",
       "      <td>1.028974</td>\n",
       "      <td>1.242044</td>\n",
       "      <td>0.989096</td>\n",
       "    </tr>\n",
       "    <tr>\n",
       "      <th>1.665262</th>\n",
       "      <td>0.854993</td>\n",
       "      <td>0.522609</td>\n",
       "      <td>1.110584</td>\n",
       "    </tr>\n",
       "  </tbody>\n",
       "</table>\n",
       "</div>"
      ],
      "text/plain": [
       "                  0         1         3\n",
       "2                                      \n",
       "-1.609200 -0.186114  1.542807 -0.006980\n",
       "-0.937544  1.004033 -0.842217 -0.135676\n",
       "-0.350628  0.253598  0.342614  0.335621\n",
       "-0.246771 -1.359595  1.708289 -0.600426\n",
       "-0.181742 -1.079583 -0.475193 -0.449272\n",
       "-0.002171  2.581877  0.860530  0.016323\n",
       " 0.009891  1.181489 -1.528546 -0.681947\n",
       " 0.985119 -1.117683  0.991260  1.571765\n",
       " 1.181569  1.028974  1.242044  0.989096\n",
       " 1.665262  0.854993  0.522609  1.110584"
      ]
     },
     "execution_count": 28,
     "metadata": {},
     "output_type": "execute_result"
    }
   ],
   "source": [
    "df.groupby(2).sum()\n",
    "# group the data "
   ]
  },
  {
   "cell_type": "code",
   "execution_count": 29,
   "id": "d73391b3",
   "metadata": {},
   "outputs": [
    {
     "data": {
      "text/html": [
       "<div>\n",
       "<style scoped>\n",
       "    .dataframe tbody tr th:only-of-type {\n",
       "        vertical-align: middle;\n",
       "    }\n",
       "\n",
       "    .dataframe tbody tr th {\n",
       "        vertical-align: top;\n",
       "    }\n",
       "\n",
       "    .dataframe thead th {\n",
       "        text-align: right;\n",
       "    }\n",
       "</style>\n",
       "<table border=\"1\" class=\"dataframe\">\n",
       "  <thead>\n",
       "    <tr style=\"text-align: right;\">\n",
       "      <th></th>\n",
       "      <th></th>\n",
       "      <th>0</th>\n",
       "      <th>1</th>\n",
       "    </tr>\n",
       "    <tr>\n",
       "      <th>2</th>\n",
       "      <th>3</th>\n",
       "      <th></th>\n",
       "      <th></th>\n",
       "    </tr>\n",
       "  </thead>\n",
       "  <tbody>\n",
       "    <tr>\n",
       "      <th>-1.609200</th>\n",
       "      <th>-0.006980</th>\n",
       "      <td>-0.186114</td>\n",
       "      <td>1.542807</td>\n",
       "    </tr>\n",
       "    <tr>\n",
       "      <th>-0.937544</th>\n",
       "      <th>-0.135676</th>\n",
       "      <td>1.004033</td>\n",
       "      <td>-0.842217</td>\n",
       "    </tr>\n",
       "    <tr>\n",
       "      <th>-0.350628</th>\n",
       "      <th>0.335621</th>\n",
       "      <td>0.253598</td>\n",
       "      <td>0.342614</td>\n",
       "    </tr>\n",
       "    <tr>\n",
       "      <th>-0.246771</th>\n",
       "      <th>-0.600426</th>\n",
       "      <td>-1.359595</td>\n",
       "      <td>1.708289</td>\n",
       "    </tr>\n",
       "    <tr>\n",
       "      <th>-0.181742</th>\n",
       "      <th>-0.449272</th>\n",
       "      <td>-1.079583</td>\n",
       "      <td>-0.475193</td>\n",
       "    </tr>\n",
       "    <tr>\n",
       "      <th>-0.002171</th>\n",
       "      <th>0.016323</th>\n",
       "      <td>2.581877</td>\n",
       "      <td>0.860530</td>\n",
       "    </tr>\n",
       "    <tr>\n",
       "      <th>0.009891</th>\n",
       "      <th>-0.681947</th>\n",
       "      <td>1.181489</td>\n",
       "      <td>-1.528546</td>\n",
       "    </tr>\n",
       "    <tr>\n",
       "      <th>0.985119</th>\n",
       "      <th>1.571765</th>\n",
       "      <td>-1.117683</td>\n",
       "      <td>0.991260</td>\n",
       "    </tr>\n",
       "    <tr>\n",
       "      <th>1.181569</th>\n",
       "      <th>0.989096</th>\n",
       "      <td>1.028974</td>\n",
       "      <td>1.242044</td>\n",
       "    </tr>\n",
       "    <tr>\n",
       "      <th>1.665262</th>\n",
       "      <th>1.110584</th>\n",
       "      <td>0.854993</td>\n",
       "      <td>0.522609</td>\n",
       "    </tr>\n",
       "  </tbody>\n",
       "</table>\n",
       "</div>"
      ],
      "text/plain": [
       "                            0         1\n",
       "2         3                            \n",
       "-1.609200 -0.006980 -0.186114  1.542807\n",
       "-0.937544 -0.135676  1.004033 -0.842217\n",
       "-0.350628  0.335621  0.253598  0.342614\n",
       "-0.246771 -0.600426 -1.359595  1.708289\n",
       "-0.181742 -0.449272 -1.079583 -0.475193\n",
       "-0.002171  0.016323  2.581877  0.860530\n",
       " 0.009891 -0.681947  1.181489 -1.528546\n",
       " 0.985119  1.571765 -1.117683  0.991260\n",
       " 1.181569  0.989096  1.028974  1.242044\n",
       " 1.665262  1.110584  0.854993  0.522609"
      ]
     },
     "execution_count": 29,
     "metadata": {},
     "output_type": "execute_result"
    }
   ],
   "source": [
    "df.groupby([2,3,]).sum()"
   ]
  },
  {
   "cell_type": "markdown",
   "id": "1ee47266",
   "metadata": {},
   "source": [
    "# Stack and Pivot "
   ]
  },
  {
   "cell_type": "code",
   "execution_count": 30,
   "id": "38ae2b1b",
   "metadata": {},
   "outputs": [],
   "source": [
    "my_tuple=list(zip(*[[1,2,3,4,5,4,4,5],[11,12,13,3,4,5,55,5]]))"
   ]
  },
  {
   "cell_type": "code",
   "execution_count": 31,
   "id": "221e8a2d",
   "metadata": {},
   "outputs": [],
   "source": [
    "index=pd.MultiIndex.from_tuples(my_tuple,name=['First','Second'])"
   ]
  },
  {
   "cell_type": "code",
   "execution_count": 32,
   "id": "6d72778b",
   "metadata": {},
   "outputs": [],
   "source": [
    "df=pd.DataFrame(np.random.randn(8,2),index=index,columns=['A','B'])"
   ]
  },
  {
   "cell_type": "code",
   "execution_count": 33,
   "id": "9105e78d",
   "metadata": {},
   "outputs": [
    {
     "data": {
      "text/html": [
       "<div>\n",
       "<style scoped>\n",
       "    .dataframe tbody tr th:only-of-type {\n",
       "        vertical-align: middle;\n",
       "    }\n",
       "\n",
       "    .dataframe tbody tr th {\n",
       "        vertical-align: top;\n",
       "    }\n",
       "\n",
       "    .dataframe thead th {\n",
       "        text-align: right;\n",
       "    }\n",
       "</style>\n",
       "<table border=\"1\" class=\"dataframe\">\n",
       "  <thead>\n",
       "    <tr style=\"text-align: right;\">\n",
       "      <th></th>\n",
       "      <th></th>\n",
       "      <th>A</th>\n",
       "      <th>B</th>\n",
       "    </tr>\n",
       "    <tr>\n",
       "      <th>First</th>\n",
       "      <th>Second</th>\n",
       "      <th></th>\n",
       "      <th></th>\n",
       "    </tr>\n",
       "  </thead>\n",
       "  <tbody>\n",
       "    <tr>\n",
       "      <th>1</th>\n",
       "      <th>11</th>\n",
       "      <td>-1.270013</td>\n",
       "      <td>-1.780999</td>\n",
       "    </tr>\n",
       "    <tr>\n",
       "      <th>2</th>\n",
       "      <th>12</th>\n",
       "      <td>-0.419121</td>\n",
       "      <td>-0.159040</td>\n",
       "    </tr>\n",
       "    <tr>\n",
       "      <th>3</th>\n",
       "      <th>13</th>\n",
       "      <td>-0.619931</td>\n",
       "      <td>0.177837</td>\n",
       "    </tr>\n",
       "    <tr>\n",
       "      <th>4</th>\n",
       "      <th>3</th>\n",
       "      <td>-0.665121</td>\n",
       "      <td>-0.021844</td>\n",
       "    </tr>\n",
       "    <tr>\n",
       "      <th>5</th>\n",
       "      <th>4</th>\n",
       "      <td>0.993097</td>\n",
       "      <td>1.092740</td>\n",
       "    </tr>\n",
       "    <tr>\n",
       "      <th rowspan=\"2\" valign=\"top\">4</th>\n",
       "      <th>5</th>\n",
       "      <td>-1.668146</td>\n",
       "      <td>0.514707</td>\n",
       "    </tr>\n",
       "    <tr>\n",
       "      <th>55</th>\n",
       "      <td>2.163631</td>\n",
       "      <td>1.243656</td>\n",
       "    </tr>\n",
       "    <tr>\n",
       "      <th>5</th>\n",
       "      <th>5</th>\n",
       "      <td>0.530929</td>\n",
       "      <td>-2.445987</td>\n",
       "    </tr>\n",
       "  </tbody>\n",
       "</table>\n",
       "</div>"
      ],
      "text/plain": [
       "                     A         B\n",
       "First Second                    \n",
       "1     11     -1.270013 -1.780999\n",
       "2     12     -0.419121 -0.159040\n",
       "3     13     -0.619931  0.177837\n",
       "4     3      -0.665121 -0.021844\n",
       "5     4       0.993097  1.092740\n",
       "4     5      -1.668146  0.514707\n",
       "      55      2.163631  1.243656\n",
       "5     5       0.530929 -2.445987"
      ]
     },
     "execution_count": 33,
     "metadata": {},
     "output_type": "execute_result"
    }
   ],
   "source": [
    "df"
   ]
  },
  {
   "cell_type": "code",
   "execution_count": 34,
   "id": "0007cebb",
   "metadata": {},
   "outputs": [],
   "source": [
    "df2=df[:4]"
   ]
  },
  {
   "cell_type": "code",
   "execution_count": 35,
   "id": "a22be1c6",
   "metadata": {},
   "outputs": [
    {
     "data": {
      "text/html": [
       "<div>\n",
       "<style scoped>\n",
       "    .dataframe tbody tr th:only-of-type {\n",
       "        vertical-align: middle;\n",
       "    }\n",
       "\n",
       "    .dataframe tbody tr th {\n",
       "        vertical-align: top;\n",
       "    }\n",
       "\n",
       "    .dataframe thead th {\n",
       "        text-align: right;\n",
       "    }\n",
       "</style>\n",
       "<table border=\"1\" class=\"dataframe\">\n",
       "  <thead>\n",
       "    <tr style=\"text-align: right;\">\n",
       "      <th></th>\n",
       "      <th></th>\n",
       "      <th>A</th>\n",
       "      <th>B</th>\n",
       "    </tr>\n",
       "    <tr>\n",
       "      <th>First</th>\n",
       "      <th>Second</th>\n",
       "      <th></th>\n",
       "      <th></th>\n",
       "    </tr>\n",
       "  </thead>\n",
       "  <tbody>\n",
       "    <tr>\n",
       "      <th>1</th>\n",
       "      <th>11</th>\n",
       "      <td>-1.270013</td>\n",
       "      <td>-1.780999</td>\n",
       "    </tr>\n",
       "    <tr>\n",
       "      <th>2</th>\n",
       "      <th>12</th>\n",
       "      <td>-0.419121</td>\n",
       "      <td>-0.159040</td>\n",
       "    </tr>\n",
       "    <tr>\n",
       "      <th>3</th>\n",
       "      <th>13</th>\n",
       "      <td>-0.619931</td>\n",
       "      <td>0.177837</td>\n",
       "    </tr>\n",
       "    <tr>\n",
       "      <th>4</th>\n",
       "      <th>3</th>\n",
       "      <td>-0.665121</td>\n",
       "      <td>-0.021844</td>\n",
       "    </tr>\n",
       "  </tbody>\n",
       "</table>\n",
       "</div>"
      ],
      "text/plain": [
       "                     A         B\n",
       "First Second                    \n",
       "1     11     -1.270013 -1.780999\n",
       "2     12     -0.419121 -0.159040\n",
       "3     13     -0.619931  0.177837\n",
       "4     3      -0.665121 -0.021844"
      ]
     },
     "execution_count": 35,
     "metadata": {},
     "output_type": "execute_result"
    }
   ],
   "source": [
    "df2"
   ]
  },
  {
   "cell_type": "code",
   "execution_count": 36,
   "id": "aedefe70",
   "metadata": {},
   "outputs": [
    {
     "data": {
      "text/plain": [
       "First  Second   \n",
       "1      11      A   -1.270013\n",
       "               B   -1.780999\n",
       "2      12      A   -0.419121\n",
       "               B   -0.159040\n",
       "3      13      A   -0.619931\n",
       "               B    0.177837\n",
       "4      3       A   -0.665121\n",
       "               B   -0.021844\n",
       "dtype: float64"
      ]
     },
     "execution_count": 36,
     "metadata": {},
     "output_type": "execute_result"
    }
   ],
   "source": [
    "df2.stack()"
   ]
  },
  {
   "cell_type": "code",
   "execution_count": 37,
   "id": "6d86ca3e",
   "metadata": {},
   "outputs": [],
   "source": [
    "df=pd.DataFrame({'A':['a','b','c','d','e','f']*2,\n",
    "                'B':['A','B','C']*4,\n",
    "                 'C':['p','P','P','Q','Q','Q']*2,\n",
    "                 'D':np.random.randn(12),\n",
    "                 'E':np.random.randn(12)\n",
    "                })"
   ]
  },
  {
   "cell_type": "code",
   "execution_count": 38,
   "id": "699ff42c",
   "metadata": {},
   "outputs": [
    {
     "data": {
      "text/html": [
       "<div>\n",
       "<style scoped>\n",
       "    .dataframe tbody tr th:only-of-type {\n",
       "        vertical-align: middle;\n",
       "    }\n",
       "\n",
       "    .dataframe tbody tr th {\n",
       "        vertical-align: top;\n",
       "    }\n",
       "\n",
       "    .dataframe thead th {\n",
       "        text-align: right;\n",
       "    }\n",
       "</style>\n",
       "<table border=\"1\" class=\"dataframe\">\n",
       "  <thead>\n",
       "    <tr style=\"text-align: right;\">\n",
       "      <th></th>\n",
       "      <th>A</th>\n",
       "      <th>B</th>\n",
       "      <th>C</th>\n",
       "      <th>D</th>\n",
       "      <th>E</th>\n",
       "    </tr>\n",
       "  </thead>\n",
       "  <tbody>\n",
       "    <tr>\n",
       "      <th>0</th>\n",
       "      <td>a</td>\n",
       "      <td>A</td>\n",
       "      <td>p</td>\n",
       "      <td>1.318911</td>\n",
       "      <td>-0.378058</td>\n",
       "    </tr>\n",
       "    <tr>\n",
       "      <th>1</th>\n",
       "      <td>b</td>\n",
       "      <td>B</td>\n",
       "      <td>P</td>\n",
       "      <td>-1.128650</td>\n",
       "      <td>0.058364</td>\n",
       "    </tr>\n",
       "    <tr>\n",
       "      <th>2</th>\n",
       "      <td>c</td>\n",
       "      <td>C</td>\n",
       "      <td>P</td>\n",
       "      <td>-1.897994</td>\n",
       "      <td>0.069306</td>\n",
       "    </tr>\n",
       "    <tr>\n",
       "      <th>3</th>\n",
       "      <td>d</td>\n",
       "      <td>A</td>\n",
       "      <td>Q</td>\n",
       "      <td>1.428207</td>\n",
       "      <td>1.226734</td>\n",
       "    </tr>\n",
       "    <tr>\n",
       "      <th>4</th>\n",
       "      <td>e</td>\n",
       "      <td>B</td>\n",
       "      <td>Q</td>\n",
       "      <td>0.513760</td>\n",
       "      <td>1.467102</td>\n",
       "    </tr>\n",
       "    <tr>\n",
       "      <th>5</th>\n",
       "      <td>f</td>\n",
       "      <td>C</td>\n",
       "      <td>Q</td>\n",
       "      <td>0.638409</td>\n",
       "      <td>1.572544</td>\n",
       "    </tr>\n",
       "    <tr>\n",
       "      <th>6</th>\n",
       "      <td>a</td>\n",
       "      <td>A</td>\n",
       "      <td>p</td>\n",
       "      <td>0.407388</td>\n",
       "      <td>0.241879</td>\n",
       "    </tr>\n",
       "    <tr>\n",
       "      <th>7</th>\n",
       "      <td>b</td>\n",
       "      <td>B</td>\n",
       "      <td>P</td>\n",
       "      <td>0.225689</td>\n",
       "      <td>-0.735978</td>\n",
       "    </tr>\n",
       "    <tr>\n",
       "      <th>8</th>\n",
       "      <td>c</td>\n",
       "      <td>C</td>\n",
       "      <td>P</td>\n",
       "      <td>1.781163</td>\n",
       "      <td>0.409620</td>\n",
       "    </tr>\n",
       "    <tr>\n",
       "      <th>9</th>\n",
       "      <td>d</td>\n",
       "      <td>A</td>\n",
       "      <td>Q</td>\n",
       "      <td>0.316199</td>\n",
       "      <td>-0.432340</td>\n",
       "    </tr>\n",
       "    <tr>\n",
       "      <th>10</th>\n",
       "      <td>e</td>\n",
       "      <td>B</td>\n",
       "      <td>Q</td>\n",
       "      <td>1.221425</td>\n",
       "      <td>0.382608</td>\n",
       "    </tr>\n",
       "    <tr>\n",
       "      <th>11</th>\n",
       "      <td>f</td>\n",
       "      <td>C</td>\n",
       "      <td>Q</td>\n",
       "      <td>0.738717</td>\n",
       "      <td>-1.768479</td>\n",
       "    </tr>\n",
       "  </tbody>\n",
       "</table>\n",
       "</div>"
      ],
      "text/plain": [
       "    A  B  C         D         E\n",
       "0   a  A  p  1.318911 -0.378058\n",
       "1   b  B  P -1.128650  0.058364\n",
       "2   c  C  P -1.897994  0.069306\n",
       "3   d  A  Q  1.428207  1.226734\n",
       "4   e  B  Q  0.513760  1.467102\n",
       "5   f  C  Q  0.638409  1.572544\n",
       "6   a  A  p  0.407388  0.241879\n",
       "7   b  B  P  0.225689 -0.735978\n",
       "8   c  C  P  1.781163  0.409620\n",
       "9   d  A  Q  0.316199 -0.432340\n",
       "10  e  B  Q  1.221425  0.382608\n",
       "11  f  C  Q  0.738717 -1.768479"
      ]
     },
     "execution_count": 38,
     "metadata": {},
     "output_type": "execute_result"
    }
   ],
   "source": [
    "df"
   ]
  },
  {
   "cell_type": "code",
   "execution_count": 39,
   "id": "1d3b05c5",
   "metadata": {},
   "outputs": [
    {
     "data": {
      "text/html": [
       "<div>\n",
       "<style scoped>\n",
       "    .dataframe tbody tr th:only-of-type {\n",
       "        vertical-align: middle;\n",
       "    }\n",
       "\n",
       "    .dataframe tbody tr th {\n",
       "        vertical-align: top;\n",
       "    }\n",
       "\n",
       "    .dataframe thead th {\n",
       "        text-align: right;\n",
       "    }\n",
       "</style>\n",
       "<table border=\"1\" class=\"dataframe\">\n",
       "  <thead>\n",
       "    <tr style=\"text-align: right;\">\n",
       "      <th></th>\n",
       "      <th>C</th>\n",
       "      <th>P</th>\n",
       "      <th>Q</th>\n",
       "      <th>p</th>\n",
       "    </tr>\n",
       "    <tr>\n",
       "      <th>A</th>\n",
       "      <th>B</th>\n",
       "      <th></th>\n",
       "      <th></th>\n",
       "      <th></th>\n",
       "    </tr>\n",
       "  </thead>\n",
       "  <tbody>\n",
       "    <tr>\n",
       "      <th>a</th>\n",
       "      <th>A</th>\n",
       "      <td>NaN</td>\n",
       "      <td>NaN</td>\n",
       "      <td>0.86315</td>\n",
       "    </tr>\n",
       "    <tr>\n",
       "      <th>b</th>\n",
       "      <th>B</th>\n",
       "      <td>-0.451480</td>\n",
       "      <td>NaN</td>\n",
       "      <td>NaN</td>\n",
       "    </tr>\n",
       "    <tr>\n",
       "      <th>c</th>\n",
       "      <th>C</th>\n",
       "      <td>-0.058415</td>\n",
       "      <td>NaN</td>\n",
       "      <td>NaN</td>\n",
       "    </tr>\n",
       "    <tr>\n",
       "      <th>d</th>\n",
       "      <th>A</th>\n",
       "      <td>NaN</td>\n",
       "      <td>0.872203</td>\n",
       "      <td>NaN</td>\n",
       "    </tr>\n",
       "    <tr>\n",
       "      <th>e</th>\n",
       "      <th>B</th>\n",
       "      <td>NaN</td>\n",
       "      <td>0.867592</td>\n",
       "      <td>NaN</td>\n",
       "    </tr>\n",
       "    <tr>\n",
       "      <th>f</th>\n",
       "      <th>C</th>\n",
       "      <td>NaN</td>\n",
       "      <td>0.688563</td>\n",
       "      <td>NaN</td>\n",
       "    </tr>\n",
       "  </tbody>\n",
       "</table>\n",
       "</div>"
      ],
      "text/plain": [
       "C           P         Q        p\n",
       "A B                             \n",
       "a A       NaN       NaN  0.86315\n",
       "b B -0.451480       NaN      NaN\n",
       "c C -0.058415       NaN      NaN\n",
       "d A       NaN  0.872203      NaN\n",
       "e B       NaN  0.867592      NaN\n",
       "f C       NaN  0.688563      NaN"
      ]
     },
     "execution_count": 39,
     "metadata": {},
     "output_type": "execute_result"
    }
   ],
   "source": [
    "pd.pivot_table(df,values='D',index=['A','B'],columns=['C'])"
   ]
  },
  {
   "cell_type": "markdown",
   "id": "7823fbc8",
   "metadata": {},
   "source": [
    "# Time Series and Categorical Data "
   ]
  },
  {
   "cell_type": "code",
   "execution_count": 40,
   "id": "9520b6f8",
   "metadata": {},
   "outputs": [],
   "source": [
    "date=pd.date_range('20230301',periods=100,freq='S')"
   ]
  },
  {
   "cell_type": "code",
   "execution_count": 41,
   "id": "92cc4854",
   "metadata": {},
   "outputs": [
    {
     "data": {
      "text/plain": [
       "DatetimeIndex(['2023-03-01 00:00:00', '2023-03-01 00:00:01',\n",
       "               '2023-03-01 00:00:02', '2023-03-01 00:00:03',\n",
       "               '2023-03-01 00:00:04', '2023-03-01 00:00:05',\n",
       "               '2023-03-01 00:00:06', '2023-03-01 00:00:07',\n",
       "               '2023-03-01 00:00:08', '2023-03-01 00:00:09',\n",
       "               '2023-03-01 00:00:10', '2023-03-01 00:00:11',\n",
       "               '2023-03-01 00:00:12', '2023-03-01 00:00:13',\n",
       "               '2023-03-01 00:00:14', '2023-03-01 00:00:15',\n",
       "               '2023-03-01 00:00:16', '2023-03-01 00:00:17',\n",
       "               '2023-03-01 00:00:18', '2023-03-01 00:00:19',\n",
       "               '2023-03-01 00:00:20', '2023-03-01 00:00:21',\n",
       "               '2023-03-01 00:00:22', '2023-03-01 00:00:23',\n",
       "               '2023-03-01 00:00:24', '2023-03-01 00:00:25',\n",
       "               '2023-03-01 00:00:26', '2023-03-01 00:00:27',\n",
       "               '2023-03-01 00:00:28', '2023-03-01 00:00:29',\n",
       "               '2023-03-01 00:00:30', '2023-03-01 00:00:31',\n",
       "               '2023-03-01 00:00:32', '2023-03-01 00:00:33',\n",
       "               '2023-03-01 00:00:34', '2023-03-01 00:00:35',\n",
       "               '2023-03-01 00:00:36', '2023-03-01 00:00:37',\n",
       "               '2023-03-01 00:00:38', '2023-03-01 00:00:39',\n",
       "               '2023-03-01 00:00:40', '2023-03-01 00:00:41',\n",
       "               '2023-03-01 00:00:42', '2023-03-01 00:00:43',\n",
       "               '2023-03-01 00:00:44', '2023-03-01 00:00:45',\n",
       "               '2023-03-01 00:00:46', '2023-03-01 00:00:47',\n",
       "               '2023-03-01 00:00:48', '2023-03-01 00:00:49',\n",
       "               '2023-03-01 00:00:50', '2023-03-01 00:00:51',\n",
       "               '2023-03-01 00:00:52', '2023-03-01 00:00:53',\n",
       "               '2023-03-01 00:00:54', '2023-03-01 00:00:55',\n",
       "               '2023-03-01 00:00:56', '2023-03-01 00:00:57',\n",
       "               '2023-03-01 00:00:58', '2023-03-01 00:00:59',\n",
       "               '2023-03-01 00:01:00', '2023-03-01 00:01:01',\n",
       "               '2023-03-01 00:01:02', '2023-03-01 00:01:03',\n",
       "               '2023-03-01 00:01:04', '2023-03-01 00:01:05',\n",
       "               '2023-03-01 00:01:06', '2023-03-01 00:01:07',\n",
       "               '2023-03-01 00:01:08', '2023-03-01 00:01:09',\n",
       "               '2023-03-01 00:01:10', '2023-03-01 00:01:11',\n",
       "               '2023-03-01 00:01:12', '2023-03-01 00:01:13',\n",
       "               '2023-03-01 00:01:14', '2023-03-01 00:01:15',\n",
       "               '2023-03-01 00:01:16', '2023-03-01 00:01:17',\n",
       "               '2023-03-01 00:01:18', '2023-03-01 00:01:19',\n",
       "               '2023-03-01 00:01:20', '2023-03-01 00:01:21',\n",
       "               '2023-03-01 00:01:22', '2023-03-01 00:01:23',\n",
       "               '2023-03-01 00:01:24', '2023-03-01 00:01:25',\n",
       "               '2023-03-01 00:01:26', '2023-03-01 00:01:27',\n",
       "               '2023-03-01 00:01:28', '2023-03-01 00:01:29',\n",
       "               '2023-03-01 00:01:30', '2023-03-01 00:01:31',\n",
       "               '2023-03-01 00:01:32', '2023-03-01 00:01:33',\n",
       "               '2023-03-01 00:01:34', '2023-03-01 00:01:35',\n",
       "               '2023-03-01 00:01:36', '2023-03-01 00:01:37',\n",
       "               '2023-03-01 00:01:38', '2023-03-01 00:01:39'],\n",
       "              dtype='datetime64[ns]', freq='S')"
      ]
     },
     "execution_count": 41,
     "metadata": {},
     "output_type": "execute_result"
    }
   ],
   "source": [
    "date"
   ]
  },
  {
   "cell_type": "code",
   "execution_count": 46,
   "id": "0ec07d6e",
   "metadata": {},
   "outputs": [
    {
     "ename": "SyntaxError",
     "evalue": "unexpected EOF while parsing (2565361320.py, line 1)",
     "output_type": "error",
     "traceback": [
      "\u001b[1;36m  Input \u001b[1;32mIn [46]\u001b[1;36m\u001b[0m\n\u001b[1;33m    ts=pd.Series(np.random.randint(0,500,100,index=d)\u001b[0m\n\u001b[1;37m                                                     ^\u001b[0m\n\u001b[1;31mSyntaxError\u001b[0m\u001b[1;31m:\u001b[0m unexpected EOF while parsing\n"
     ]
    }
   ],
   "source": [
    "ts=pd.Series(np.random.randint(0,500,100,index=d)"
   ]
  },
  {
   "cell_type": "code",
   "execution_count": 47,
   "id": "801cf481",
   "metadata": {},
   "outputs": [],
   "source": [
    "date=pd.date_range('3/3/2023',periods=100,freq='S')"
   ]
  },
  {
   "cell_type": "code",
   "execution_count": 48,
   "id": "ac6415fa",
   "metadata": {},
   "outputs": [],
   "source": [
    "ts=pd.Series(np.random.randint(0,500,len(date)),date)"
   ]
  },
  {
   "cell_type": "code",
   "execution_count": 49,
   "id": "86cadb63",
   "metadata": {},
   "outputs": [
    {
     "data": {
      "text/plain": [
       "2023-03-03 00:00:00      6\n",
       "2023-03-03 00:00:01    474\n",
       "2023-03-03 00:00:02    216\n",
       "2023-03-03 00:00:03    334\n",
       "2023-03-03 00:00:04    357\n",
       "                      ... \n",
       "2023-03-03 00:01:35    454\n",
       "2023-03-03 00:01:36    233\n",
       "2023-03-03 00:01:37    367\n",
       "2023-03-03 00:01:38    265\n",
       "2023-03-03 00:01:39     31\n",
       "Freq: S, Length: 100, dtype: int32"
      ]
     },
     "execution_count": 49,
     "metadata": {},
     "output_type": "execute_result"
    }
   ],
   "source": [
    "ts"
   ]
  },
  {
   "cell_type": "code",
   "execution_count": 50,
   "id": "357a6129",
   "metadata": {},
   "outputs": [
    {
     "data": {
      "text/plain": [
       "2023-03-03    23479\n",
       "Freq: 5T, dtype: int32"
      ]
     },
     "execution_count": 50,
     "metadata": {},
     "output_type": "execute_result"
    }
   ],
   "source": [
    "ts.resample('5min').sum()"
   ]
  },
  {
   "cell_type": "code",
   "execution_count": 51,
   "id": "5792b1d2",
   "metadata": {},
   "outputs": [],
   "source": [
    "date=pd.date_range('3/3/2020 00:00',periods=100,freq='S')"
   ]
  },
  {
   "cell_type": "code",
   "execution_count": 52,
   "id": "683a2039",
   "metadata": {},
   "outputs": [],
   "source": [
    "ts=pd.Series(np.random.randn(len(date)),date)"
   ]
  },
  {
   "cell_type": "code",
   "execution_count": 53,
   "id": "e8cf2e04",
   "metadata": {},
   "outputs": [
    {
     "data": {
      "text/plain": [
       "2020-03-03 00:00:00    0.335856\n",
       "2020-03-03 00:00:01    1.279669\n",
       "2020-03-03 00:00:02   -0.731831\n",
       "2020-03-03 00:00:03    0.989780\n",
       "2020-03-03 00:00:04   -0.096652\n",
       "                         ...   \n",
       "2020-03-03 00:01:35    0.595971\n",
       "2020-03-03 00:01:36   -0.181542\n",
       "2020-03-03 00:01:37   -0.260452\n",
       "2020-03-03 00:01:38   -0.111109\n",
       "2020-03-03 00:01:39   -0.608232\n",
       "Freq: S, Length: 100, dtype: float64"
      ]
     },
     "execution_count": 53,
     "metadata": {},
     "output_type": "execute_result"
    }
   ],
   "source": [
    "ts"
   ]
  },
  {
   "cell_type": "code",
   "execution_count": 54,
   "id": "5efdf5e7",
   "metadata": {},
   "outputs": [],
   "source": [
    "ts_utc=ts.tz_localize('UTC')"
   ]
  },
  {
   "cell_type": "code",
   "execution_count": 55,
   "id": "527365c7",
   "metadata": {},
   "outputs": [
    {
     "data": {
      "text/plain": [
       "2020-03-03 00:00:00+00:00    0.335856\n",
       "2020-03-03 00:00:01+00:00    1.279669\n",
       "2020-03-03 00:00:02+00:00   -0.731831\n",
       "2020-03-03 00:00:03+00:00    0.989780\n",
       "2020-03-03 00:00:04+00:00   -0.096652\n",
       "                               ...   \n",
       "2020-03-03 00:01:35+00:00    0.595971\n",
       "2020-03-03 00:01:36+00:00   -0.181542\n",
       "2020-03-03 00:01:37+00:00   -0.260452\n",
       "2020-03-03 00:01:38+00:00   -0.111109\n",
       "2020-03-03 00:01:39+00:00   -0.608232\n",
       "Freq: S, Length: 100, dtype: float64"
      ]
     },
     "execution_count": 55,
     "metadata": {},
     "output_type": "execute_result"
    }
   ],
   "source": [
    "ts_utc"
   ]
  },
  {
   "cell_type": "code",
   "execution_count": 56,
   "id": "3913c89c",
   "metadata": {},
   "outputs": [],
   "source": [
    "# convert to another time zone"
   ]
  },
  {
   "cell_type": "code",
   "execution_count": 57,
   "id": "5da96247",
   "metadata": {
    "scrolled": true
   },
   "outputs": [
    {
     "data": {
      "text/plain": [
       "2020-03-02 19:00:00-05:00    0.335856\n",
       "2020-03-02 19:00:01-05:00    1.279669\n",
       "2020-03-02 19:00:02-05:00   -0.731831\n",
       "2020-03-02 19:00:03-05:00    0.989780\n",
       "2020-03-02 19:00:04-05:00   -0.096652\n",
       "                               ...   \n",
       "2020-03-02 19:01:35-05:00    0.595971\n",
       "2020-03-02 19:01:36-05:00   -0.181542\n",
       "2020-03-02 19:01:37-05:00   -0.260452\n",
       "2020-03-02 19:01:38-05:00   -0.111109\n",
       "2020-03-02 19:01:39-05:00   -0.608232\n",
       "Freq: S, Length: 100, dtype: float64"
      ]
     },
     "execution_count": 57,
     "metadata": {},
     "output_type": "execute_result"
    }
   ],
   "source": [
    "ts_utc.tz_convert('us/Eastern')"
   ]
  },
  {
   "cell_type": "code",
   "execution_count": 58,
   "id": "6c7696d7",
   "metadata": {},
   "outputs": [],
   "source": [
    "date=pd.date_range('3/3/2020',periods=5,freq='M')"
   ]
  },
  {
   "cell_type": "code",
   "execution_count": 59,
   "id": "d3e87209",
   "metadata": {},
   "outputs": [],
   "source": [
    "ts=pd.Series(np.random.randn(len(date)),date)"
   ]
  },
  {
   "cell_type": "code",
   "execution_count": 60,
   "id": "af934c70",
   "metadata": {},
   "outputs": [
    {
     "data": {
      "text/plain": [
       "2020-03-31    0.420858\n",
       "2020-04-30   -0.734814\n",
       "2020-05-31   -0.346458\n",
       "2020-06-30   -2.472450\n",
       "2020-07-31   -0.675713\n",
       "Freq: M, dtype: float64"
      ]
     },
     "execution_count": 60,
     "metadata": {},
     "output_type": "execute_result"
    }
   ],
   "source": [
    "ts"
   ]
  },
  {
   "cell_type": "code",
   "execution_count": 61,
   "id": "6f052c74",
   "metadata": {},
   "outputs": [],
   "source": [
    "ps=ts.to_period()"
   ]
  },
  {
   "cell_type": "code",
   "execution_count": 62,
   "id": "47b5ed45",
   "metadata": {},
   "outputs": [
    {
     "data": {
      "text/plain": [
       "2020-03    0.420858\n",
       "2020-04   -0.734814\n",
       "2020-05   -0.346458\n",
       "2020-06   -2.472450\n",
       "2020-07   -0.675713\n",
       "Freq: M, dtype: float64"
      ]
     },
     "execution_count": 62,
     "metadata": {},
     "output_type": "execute_result"
    }
   ],
   "source": [
    "ps"
   ]
  },
  {
   "cell_type": "code",
   "execution_count": 63,
   "id": "13504918",
   "metadata": {},
   "outputs": [],
   "source": [
    "df=pd.DataFrame({'id':[1,2,3,4,5],\n",
    "                'grade':['a','b','c','d','e']\n",
    "                })"
   ]
  },
  {
   "cell_type": "code",
   "execution_count": 64,
   "id": "ef32f7d6",
   "metadata": {},
   "outputs": [
    {
     "data": {
      "text/html": [
       "<div>\n",
       "<style scoped>\n",
       "    .dataframe tbody tr th:only-of-type {\n",
       "        vertical-align: middle;\n",
       "    }\n",
       "\n",
       "    .dataframe tbody tr th {\n",
       "        vertical-align: top;\n",
       "    }\n",
       "\n",
       "    .dataframe thead th {\n",
       "        text-align: right;\n",
       "    }\n",
       "</style>\n",
       "<table border=\"1\" class=\"dataframe\">\n",
       "  <thead>\n",
       "    <tr style=\"text-align: right;\">\n",
       "      <th></th>\n",
       "      <th>id</th>\n",
       "      <th>grade</th>\n",
       "    </tr>\n",
       "  </thead>\n",
       "  <tbody>\n",
       "    <tr>\n",
       "      <th>0</th>\n",
       "      <td>1</td>\n",
       "      <td>a</td>\n",
       "    </tr>\n",
       "    <tr>\n",
       "      <th>1</th>\n",
       "      <td>2</td>\n",
       "      <td>b</td>\n",
       "    </tr>\n",
       "    <tr>\n",
       "      <th>2</th>\n",
       "      <td>3</td>\n",
       "      <td>c</td>\n",
       "    </tr>\n",
       "    <tr>\n",
       "      <th>3</th>\n",
       "      <td>4</td>\n",
       "      <td>d</td>\n",
       "    </tr>\n",
       "    <tr>\n",
       "      <th>4</th>\n",
       "      <td>5</td>\n",
       "      <td>e</td>\n",
       "    </tr>\n",
       "  </tbody>\n",
       "</table>\n",
       "</div>"
      ],
      "text/plain": [
       "   id grade\n",
       "0   1     a\n",
       "1   2     b\n",
       "2   3     c\n",
       "3   4     d\n",
       "4   5     e"
      ]
     },
     "execution_count": 64,
     "metadata": {},
     "output_type": "execute_result"
    }
   ],
   "source": [
    "df"
   ]
  },
  {
   "cell_type": "code",
   "execution_count": 65,
   "id": "f404d5bb",
   "metadata": {},
   "outputs": [],
   "source": [
    "df['Grade']=df['grade']=df['grade'].astype(\"category\")"
   ]
  },
  {
   "cell_type": "code",
   "execution_count": 66,
   "id": "48623fc8",
   "metadata": {},
   "outputs": [
    {
     "data": {
      "text/plain": [
       "0    a\n",
       "1    b\n",
       "2    c\n",
       "3    d\n",
       "4    e\n",
       "Name: Grade, dtype: category\n",
       "Categories (5, object): ['a', 'b', 'c', 'd', 'e']"
      ]
     },
     "execution_count": 66,
     "metadata": {},
     "output_type": "execute_result"
    }
   ],
   "source": [
    "df['Grade']"
   ]
  },
  {
   "cell_type": "code",
   "execution_count": 67,
   "id": "d7300823",
   "metadata": {},
   "outputs": [
    {
     "ename": "TypeError",
     "evalue": "'Index' object is not callable",
     "output_type": "error",
     "traceback": [
      "\u001b[1;31m---------------------------------------------------------------------------\u001b[0m",
      "\u001b[1;31mTypeError\u001b[0m                                 Traceback (most recent call last)",
      "Input \u001b[1;32mIn [67]\u001b[0m, in \u001b[0;36m<cell line: 2>\u001b[1;34m()\u001b[0m\n\u001b[0;32m      1\u001b[0m \u001b[38;5;66;03m#Rename the categories\u001b[39;00m\n\u001b[1;32m----> 2\u001b[0m \u001b[43mdf\u001b[49m\u001b[43m[\u001b[49m\u001b[38;5;124;43m'\u001b[39;49m\u001b[38;5;124;43mGrade\u001b[39;49m\u001b[38;5;124;43m'\u001b[39;49m\u001b[43m]\u001b[49m\u001b[38;5;241;43m.\u001b[39;49m\u001b[43mcat\u001b[49m\u001b[38;5;241;43m.\u001b[39;49m\u001b[43mcategories\u001b[49m\u001b[43m(\u001b[49m\u001b[43m[\u001b[49m\u001b[38;5;124;43m'\u001b[39;49m\u001b[38;5;124;43mgood\u001b[39;49m\u001b[38;5;124;43m'\u001b[39;49m\u001b[43m,\u001b[49m\u001b[38;5;124;43m'\u001b[39;49m\u001b[38;5;124;43mVery bad\u001b[39;49m\u001b[38;5;124;43m'\u001b[39;49m\u001b[43m,\u001b[49m\u001b[38;5;124;43m'\u001b[39;49m\u001b[38;5;124;43mvery good\u001b[39;49m\u001b[38;5;124;43m'\u001b[39;49m\u001b[43m,\u001b[49m\u001b[38;5;124;43m'\u001b[39;49m\u001b[38;5;124;43mExcellent\u001b[39;49m\u001b[38;5;124;43m'\u001b[39;49m\u001b[43m]\u001b[49m\u001b[43m)\u001b[49m\n",
      "\u001b[1;31mTypeError\u001b[0m: 'Index' object is not callable"
     ]
    }
   ],
   "source": [
    "#Rename the categories\n",
    "df['Grade'].cat.categories(['good','Very bad','very good','Excellent'])"
   ]
  },
  {
   "cell_type": "code",
   "execution_count": 68,
   "id": "0aaeb3b4",
   "metadata": {},
   "outputs": [
    {
     "data": {
      "text/plain": [
       "0    a\n",
       "1    b\n",
       "2    c\n",
       "3    d\n",
       "4    e\n",
       "Name: Grade, dtype: category\n",
       "Categories (5, object): ['a', 'b', 'c', 'd', 'e']"
      ]
     },
     "execution_count": 68,
     "metadata": {},
     "output_type": "execute_result"
    }
   ],
   "source": [
    "df['Grade']"
   ]
  },
  {
   "cell_type": "markdown",
   "id": "172fad72",
   "metadata": {},
   "source": [
    "# ploating "
   ]
  },
  {
   "cell_type": "code",
   "execution_count": 72,
   "id": "f8b6fc80",
   "metadata": {},
   "outputs": [],
   "source": [
    "import matplotlib.pyplot as plt"
   ]
  },
  {
   "cell_type": "code",
   "execution_count": 73,
   "id": "45b220ca",
   "metadata": {},
   "outputs": [],
   "source": [
    "plt.close('all')"
   ]
  },
  {
   "cell_type": "code",
   "execution_count": 77,
   "id": "9ee72e8b",
   "metadata": {},
   "outputs": [],
   "source": [
    "ts=pd.Series(np.random.randn(500),index=pd.date_range('1/2/2023',periods=500))"
   ]
  },
  {
   "cell_type": "code",
   "execution_count": 78,
   "id": "67656d7c",
   "metadata": {},
   "outputs": [
    {
     "data": {
      "text/plain": [
       "<AxesSubplot:>"
      ]
     },
     "execution_count": 78,
     "metadata": {},
     "output_type": "execute_result"
    },
    {
     "data": {
      "image/png": "[encoded data removed]",
      "text/plain": [
       "<Figure size 432x288 with 1 Axes>"
      ]
     },
     "metadata": {
      "needs_background": "light"
     },
     "output_type": "display_data"
    }
   ],
   "source": [
    "ts.plot()"
   ]
  },
  {
   "cell_type": "code",
   "execution_count": 79,
   "id": "c93e76d8",
   "metadata": {},
   "outputs": [
    {
     "data": {
      "text/plain": [
       "2023-01-02    0.327052\n",
       "2023-01-03    0.429424\n",
       "2023-01-04    1.165843\n",
       "2023-01-05   -0.509872\n",
       "2023-01-06    0.269180\n",
       "                ...   \n",
       "2024-05-11   -1.045932\n",
       "2024-05-12    0.052600\n",
       "2024-05-13    0.687550\n",
       "2024-05-14   -1.918753\n",
       "2024-05-15    2.146906\n",
       "Freq: D, Length: 500, dtype: float64"
      ]
     },
     "execution_count": 79,
     "metadata": {},
     "output_type": "execute_result"
    }
   ],
   "source": [
    "ts"
   ]
  },
  {
   "cell_type": "markdown",
   "id": "d1318776",
   "metadata": {},
   "source": [
    "# rading and Writing the file "
   ]
  },
  {
   "cell_type": "code",
   "execution_count": 81,
   "id": "ee05096b",
   "metadata": {},
   "outputs": [],
   "source": [
    "ts.to_csv(\"ts.csv\")"
   ]
  },
  {
   "cell_type": "code",
   "execution_count": 83,
   "id": "2556571b",
   "metadata": {},
   "outputs": [],
   "source": [
    "das=pd.read_csv(r\"C:\\Users\\Admin\\Downloads\\archive\\covid_19_clean_complete.csv\")"
   ]
  },
  {
   "cell_type": "code",
   "execution_count": 84,
   "id": "15dbe568",
   "metadata": {},
   "outputs": [
    {
     "data": {
      "text/html": [
       "<div>\n",
       "<style scoped>\n",
       "    .dataframe tbody tr th:only-of-type {\n",
       "        vertical-align: middle;\n",
       "    }\n",
       "\n",
       "    .dataframe tbody tr th {\n",
       "        vertical-align: top;\n",
       "    }\n",
       "\n",
       "    .dataframe thead th {\n",
       "        text-align: right;\n",
       "    }\n",
       "</style>\n",
       "<table border=\"1\" class=\"dataframe\">\n",
       "  <thead>\n",
       "    <tr style=\"text-align: right;\">\n",
       "      <th></th>\n",
       "      <th>Province/State</th>\n",
       "      <th>Country/Region</th>\n",
       "      <th>Lat</th>\n",
       "      <th>Long</th>\n",
       "      <th>Date</th>\n",
       "      <th>Confirmed</th>\n",
       "      <th>Deaths</th>\n",
       "      <th>Recovered</th>\n",
       "      <th>Active</th>\n",
       "      <th>WHO Region</th>\n",
       "    </tr>\n",
       "  </thead>\n",
       "  <tbody>\n",
       "    <tr>\n",
       "      <th>0</th>\n",
       "      <td>NaN</td>\n",
       "      <td>Afghanistan</td>\n",
       "      <td>33.93911</td>\n",
       "      <td>67.709953</td>\n",
       "      <td>2020-01-22</td>\n",
       "      <td>0</td>\n",
       "      <td>0</td>\n",
       "      <td>0</td>\n",
       "      <td>0</td>\n",
       "      <td>Eastern Mediterranean</td>\n",
       "    </tr>\n",
       "    <tr>\n",
       "      <th>1</th>\n",
       "      <td>NaN</td>\n",
       "      <td>Albania</td>\n",
       "      <td>41.15330</td>\n",
       "      <td>20.168300</td>\n",
       "      <td>2020-01-22</td>\n",
       "      <td>0</td>\n",
       "      <td>0</td>\n",
       "      <td>0</td>\n",
       "      <td>0</td>\n",
       "      <td>Europe</td>\n",
       "    </tr>\n",
       "    <tr>\n",
       "      <th>2</th>\n",
       "      <td>NaN</td>\n",
       "      <td>Algeria</td>\n",
       "      <td>28.03390</td>\n",
       "      <td>1.659600</td>\n",
       "      <td>2020-01-22</td>\n",
       "      <td>0</td>\n",
       "      <td>0</td>\n",
       "      <td>0</td>\n",
       "      <td>0</td>\n",
       "      <td>Africa</td>\n",
       "    </tr>\n",
       "    <tr>\n",
       "      <th>3</th>\n",
       "      <td>NaN</td>\n",
       "      <td>Andorra</td>\n",
       "      <td>42.50630</td>\n",
       "      <td>1.521800</td>\n",
       "      <td>2020-01-22</td>\n",
       "      <td>0</td>\n",
       "      <td>0</td>\n",
       "      <td>0</td>\n",
       "      <td>0</td>\n",
       "      <td>Europe</td>\n",
       "    </tr>\n",
       "    <tr>\n",
       "      <th>4</th>\n",
       "      <td>NaN</td>\n",
       "      <td>Angola</td>\n",
       "      <td>-11.20270</td>\n",
       "      <td>17.873900</td>\n",
       "      <td>2020-01-22</td>\n",
       "      <td>0</td>\n",
       "      <td>0</td>\n",
       "      <td>0</td>\n",
       "      <td>0</td>\n",
       "      <td>Africa</td>\n",
       "    </tr>\n",
       "  </tbody>\n",
       "</table>\n",
       "</div>"
      ],
      "text/plain": [
       "  Province/State Country/Region       Lat       Long        Date  Confirmed  \\\n",
       "0            NaN    Afghanistan  33.93911  67.709953  2020-01-22          0   \n",
       "1            NaN        Albania  41.15330  20.168300  2020-01-22          0   \n",
       "2            NaN        Algeria  28.03390   1.659600  2020-01-22          0   \n",
       "3            NaN        Andorra  42.50630   1.521800  2020-01-22          0   \n",
       "4            NaN         Angola -11.20270  17.873900  2020-01-22          0   \n",
       "\n",
       "   Deaths  Recovered  Active             WHO Region  \n",
       "0       0          0       0  Eastern Mediterranean  \n",
       "1       0          0       0                 Europe  \n",
       "2       0          0       0                 Africa  \n",
       "3       0          0       0                 Europe  \n",
       "4       0          0       0                 Africa  "
      ]
     },
     "execution_count": 84,
     "metadata": {},
     "output_type": "execute_result"
    }
   ],
   "source": [
    "das.head()"
   ]
  },
  {
   "cell_type": "code",
   "execution_count": 85,
   "id": "ae3a8016",
   "metadata": {},
   "outputs": [
    {
     "data": {
      "text/html": [
       "<div>\n",
       "<style scoped>\n",
       "    .dataframe tbody tr th:only-of-type {\n",
       "        vertical-align: middle;\n",
       "    }\n",
       "\n",
       "    .dataframe tbody tr th {\n",
       "        vertical-align: top;\n",
       "    }\n",
       "\n",
       "    .dataframe thead th {\n",
       "        text-align: right;\n",
       "    }\n",
       "</style>\n",
       "<table border=\"1\" class=\"dataframe\">\n",
       "  <thead>\n",
       "    <tr style=\"text-align: right;\">\n",
       "      <th></th>\n",
       "      <th>Province/State</th>\n",
       "      <th>Country/Region</th>\n",
       "      <th>Lat</th>\n",
       "      <th>Long</th>\n",
       "      <th>Date</th>\n",
       "      <th>Confirmed</th>\n",
       "      <th>Deaths</th>\n",
       "      <th>Recovered</th>\n",
       "      <th>Active</th>\n",
       "      <th>WHO Region</th>\n",
       "    </tr>\n",
       "  </thead>\n",
       "  <tbody>\n",
       "    <tr>\n",
       "      <th>49063</th>\n",
       "      <td>NaN</td>\n",
       "      <td>Sao Tome and Principe</td>\n",
       "      <td>0.186400</td>\n",
       "      <td>6.613100</td>\n",
       "      <td>2020-07-27</td>\n",
       "      <td>865</td>\n",
       "      <td>14</td>\n",
       "      <td>734</td>\n",
       "      <td>117</td>\n",
       "      <td>Africa</td>\n",
       "    </tr>\n",
       "    <tr>\n",
       "      <th>49064</th>\n",
       "      <td>NaN</td>\n",
       "      <td>Yemen</td>\n",
       "      <td>15.552727</td>\n",
       "      <td>48.516388</td>\n",
       "      <td>2020-07-27</td>\n",
       "      <td>1691</td>\n",
       "      <td>483</td>\n",
       "      <td>833</td>\n",
       "      <td>375</td>\n",
       "      <td>Eastern Mediterranean</td>\n",
       "    </tr>\n",
       "    <tr>\n",
       "      <th>49065</th>\n",
       "      <td>NaN</td>\n",
       "      <td>Comoros</td>\n",
       "      <td>-11.645500</td>\n",
       "      <td>43.333300</td>\n",
       "      <td>2020-07-27</td>\n",
       "      <td>354</td>\n",
       "      <td>7</td>\n",
       "      <td>328</td>\n",
       "      <td>19</td>\n",
       "      <td>Africa</td>\n",
       "    </tr>\n",
       "    <tr>\n",
       "      <th>49066</th>\n",
       "      <td>NaN</td>\n",
       "      <td>Tajikistan</td>\n",
       "      <td>38.861000</td>\n",
       "      <td>71.276100</td>\n",
       "      <td>2020-07-27</td>\n",
       "      <td>7235</td>\n",
       "      <td>60</td>\n",
       "      <td>6028</td>\n",
       "      <td>1147</td>\n",
       "      <td>Europe</td>\n",
       "    </tr>\n",
       "    <tr>\n",
       "      <th>49067</th>\n",
       "      <td>NaN</td>\n",
       "      <td>Lesotho</td>\n",
       "      <td>-29.610000</td>\n",
       "      <td>28.233600</td>\n",
       "      <td>2020-07-27</td>\n",
       "      <td>505</td>\n",
       "      <td>12</td>\n",
       "      <td>128</td>\n",
       "      <td>365</td>\n",
       "      <td>Africa</td>\n",
       "    </tr>\n",
       "  </tbody>\n",
       "</table>\n",
       "</div>"
      ],
      "text/plain": [
       "      Province/State         Country/Region        Lat       Long        Date  \\\n",
       "49063            NaN  Sao Tome and Principe   0.186400   6.613100  2020-07-27   \n",
       "49064            NaN                  Yemen  15.552727  48.516388  2020-07-27   \n",
       "49065            NaN                Comoros -11.645500  43.333300  2020-07-27   \n",
       "49066            NaN             Tajikistan  38.861000  71.276100  2020-07-27   \n",
       "49067            NaN                Lesotho -29.610000  28.233600  2020-07-27   \n",
       "\n",
       "       Confirmed  Deaths  Recovered  Active             WHO Region  \n",
       "49063        865      14        734     117                 Africa  \n",
       "49064       1691     483        833     375  Eastern Mediterranean  \n",
       "49065        354       7        328      19                 Africa  \n",
       "49066       7235      60       6028    1147                 Europe  \n",
       "49067        505      12        128     365                 Africa  "
      ]
     },
     "execution_count": 85,
     "metadata": {},
     "output_type": "execute_result"
    }
   ],
   "source": [
    "das.tail()"
   ]
  },
  {
   "cell_type": "code",
   "execution_count": 86,
   "id": "b3131c09",
   "metadata": {},
   "outputs": [
    {
     "data": {
      "text/html": [
       "<div>\n",
       "<style scoped>\n",
       "    .dataframe tbody tr th:only-of-type {\n",
       "        vertical-align: middle;\n",
       "    }\n",
       "\n",
       "    .dataframe tbody tr th {\n",
       "        vertical-align: top;\n",
       "    }\n",
       "\n",
       "    .dataframe thead th {\n",
       "        text-align: right;\n",
       "    }\n",
       "</style>\n",
       "<table border=\"1\" class=\"dataframe\">\n",
       "  <thead>\n",
       "    <tr style=\"text-align: right;\">\n",
       "      <th></th>\n",
       "      <th>Lat</th>\n",
       "      <th>Long</th>\n",
       "      <th>Confirmed</th>\n",
       "      <th>Deaths</th>\n",
       "      <th>Recovered</th>\n",
       "      <th>Active</th>\n",
       "    </tr>\n",
       "  </thead>\n",
       "  <tbody>\n",
       "    <tr>\n",
       "      <th>count</th>\n",
       "      <td>49068.000000</td>\n",
       "      <td>49068.000000</td>\n",
       "      <td>4.906800e+04</td>\n",
       "      <td>49068.000000</td>\n",
       "      <td>4.906800e+04</td>\n",
       "      <td>4.906800e+04</td>\n",
       "    </tr>\n",
       "    <tr>\n",
       "      <th>mean</th>\n",
       "      <td>21.433730</td>\n",
       "      <td>23.528236</td>\n",
       "      <td>1.688490e+04</td>\n",
       "      <td>884.179160</td>\n",
       "      <td>7.915713e+03</td>\n",
       "      <td>8.085012e+03</td>\n",
       "    </tr>\n",
       "    <tr>\n",
       "      <th>std</th>\n",
       "      <td>24.950320</td>\n",
       "      <td>70.442740</td>\n",
       "      <td>1.273002e+05</td>\n",
       "      <td>6313.584411</td>\n",
       "      <td>5.480092e+04</td>\n",
       "      <td>7.625890e+04</td>\n",
       "    </tr>\n",
       "    <tr>\n",
       "      <th>min</th>\n",
       "      <td>-51.796300</td>\n",
       "      <td>-135.000000</td>\n",
       "      <td>0.000000e+00</td>\n",
       "      <td>0.000000</td>\n",
       "      <td>0.000000e+00</td>\n",
       "      <td>-1.400000e+01</td>\n",
       "    </tr>\n",
       "    <tr>\n",
       "      <th>25%</th>\n",
       "      <td>7.873054</td>\n",
       "      <td>-15.310100</td>\n",
       "      <td>4.000000e+00</td>\n",
       "      <td>0.000000</td>\n",
       "      <td>0.000000e+00</td>\n",
       "      <td>0.000000e+00</td>\n",
       "    </tr>\n",
       "    <tr>\n",
       "      <th>50%</th>\n",
       "      <td>23.634500</td>\n",
       "      <td>21.745300</td>\n",
       "      <td>1.680000e+02</td>\n",
       "      <td>2.000000</td>\n",
       "      <td>2.900000e+01</td>\n",
       "      <td>2.600000e+01</td>\n",
       "    </tr>\n",
       "    <tr>\n",
       "      <th>75%</th>\n",
       "      <td>41.204380</td>\n",
       "      <td>80.771797</td>\n",
       "      <td>1.518250e+03</td>\n",
       "      <td>30.000000</td>\n",
       "      <td>6.660000e+02</td>\n",
       "      <td>6.060000e+02</td>\n",
       "    </tr>\n",
       "    <tr>\n",
       "      <th>max</th>\n",
       "      <td>71.706900</td>\n",
       "      <td>178.065000</td>\n",
       "      <td>4.290259e+06</td>\n",
       "      <td>148011.000000</td>\n",
       "      <td>1.846641e+06</td>\n",
       "      <td>2.816444e+06</td>\n",
       "    </tr>\n",
       "  </tbody>\n",
       "</table>\n",
       "</div>"
      ],
      "text/plain": [
       "                Lat          Long     Confirmed         Deaths     Recovered  \\\n",
       "count  49068.000000  49068.000000  4.906800e+04   49068.000000  4.906800e+04   \n",
       "mean      21.433730     23.528236  1.688490e+04     884.179160  7.915713e+03   \n",
       "std       24.950320     70.442740  1.273002e+05    6313.584411  5.480092e+04   \n",
       "min      -51.796300   -135.000000  0.000000e+00       0.000000  0.000000e+00   \n",
       "25%        7.873054    -15.310100  4.000000e+00       0.000000  0.000000e+00   \n",
       "50%       23.634500     21.745300  1.680000e+02       2.000000  2.900000e+01   \n",
       "75%       41.204380     80.771797  1.518250e+03      30.000000  6.660000e+02   \n",
       "max       71.706900    178.065000  4.290259e+06  148011.000000  1.846641e+06   \n",
       "\n",
       "             Active  \n",
       "count  4.906800e+04  \n",
       "mean   8.085012e+03  \n",
       "std    7.625890e+04  \n",
       "min   -1.400000e+01  \n",
       "25%    0.000000e+00  \n",
       "50%    2.600000e+01  \n",
       "75%    6.060000e+02  \n",
       "max    2.816444e+06  "
      ]
     },
     "execution_count": 86,
     "metadata": {},
     "output_type": "execute_result"
    }
   ],
   "source": [
    "das.describe()"
   ]
  },
  {
   "cell_type": "code",
   "execution_count": 87,
   "id": "19213003",
   "metadata": {},
   "outputs": [
    {
     "data": {
      "text/html": [
       "<div>\n",
       "<style scoped>\n",
       "    .dataframe tbody tr th:only-of-type {\n",
       "        vertical-align: middle;\n",
       "    }\n",
       "\n",
       "    .dataframe tbody tr th {\n",
       "        vertical-align: top;\n",
       "    }\n",
       "\n",
       "    .dataframe thead th {\n",
       "        text-align: right;\n",
       "    }\n",
       "</style>\n",
       "<table border=\"1\" class=\"dataframe\">\n",
       "  <thead>\n",
       "    <tr style=\"text-align: right;\">\n",
       "      <th></th>\n",
       "      <th>Province/State</th>\n",
       "      <th>Country/Region</th>\n",
       "      <th>Lat</th>\n",
       "      <th>Long</th>\n",
       "      <th>Date</th>\n",
       "      <th>Confirmed</th>\n",
       "      <th>Deaths</th>\n",
       "      <th>Recovered</th>\n",
       "      <th>Active</th>\n",
       "      <th>WHO Region</th>\n",
       "    </tr>\n",
       "  </thead>\n",
       "  <tbody>\n",
       "    <tr>\n",
       "      <th>0</th>\n",
       "      <td>NaN</td>\n",
       "      <td>Afghanistan</td>\n",
       "      <td>33.939110</td>\n",
       "      <td>67.709953</td>\n",
       "      <td>2020-01-22</td>\n",
       "      <td>0</td>\n",
       "      <td>0</td>\n",
       "      <td>0</td>\n",
       "      <td>0</td>\n",
       "      <td>Eastern Mediterranean</td>\n",
       "    </tr>\n",
       "    <tr>\n",
       "      <th>1</th>\n",
       "      <td>NaN</td>\n",
       "      <td>Albania</td>\n",
       "      <td>41.153300</td>\n",
       "      <td>20.168300</td>\n",
       "      <td>2020-01-22</td>\n",
       "      <td>0</td>\n",
       "      <td>0</td>\n",
       "      <td>0</td>\n",
       "      <td>0</td>\n",
       "      <td>Europe</td>\n",
       "    </tr>\n",
       "    <tr>\n",
       "      <th>2</th>\n",
       "      <td>NaN</td>\n",
       "      <td>Algeria</td>\n",
       "      <td>28.033900</td>\n",
       "      <td>1.659600</td>\n",
       "      <td>2020-01-22</td>\n",
       "      <td>0</td>\n",
       "      <td>0</td>\n",
       "      <td>0</td>\n",
       "      <td>0</td>\n",
       "      <td>Africa</td>\n",
       "    </tr>\n",
       "    <tr>\n",
       "      <th>3</th>\n",
       "      <td>NaN</td>\n",
       "      <td>Andorra</td>\n",
       "      <td>42.506300</td>\n",
       "      <td>1.521800</td>\n",
       "      <td>2020-01-22</td>\n",
       "      <td>0</td>\n",
       "      <td>0</td>\n",
       "      <td>0</td>\n",
       "      <td>0</td>\n",
       "      <td>Europe</td>\n",
       "    </tr>\n",
       "    <tr>\n",
       "      <th>4</th>\n",
       "      <td>NaN</td>\n",
       "      <td>Angola</td>\n",
       "      <td>-11.202700</td>\n",
       "      <td>17.873900</td>\n",
       "      <td>2020-01-22</td>\n",
       "      <td>0</td>\n",
       "      <td>0</td>\n",
       "      <td>0</td>\n",
       "      <td>0</td>\n",
       "      <td>Africa</td>\n",
       "    </tr>\n",
       "    <tr>\n",
       "      <th>...</th>\n",
       "      <td>...</td>\n",
       "      <td>...</td>\n",
       "      <td>...</td>\n",
       "      <td>...</td>\n",
       "      <td>...</td>\n",
       "      <td>...</td>\n",
       "      <td>...</td>\n",
       "      <td>...</td>\n",
       "      <td>...</td>\n",
       "      <td>...</td>\n",
       "    </tr>\n",
       "    <tr>\n",
       "      <th>49063</th>\n",
       "      <td>NaN</td>\n",
       "      <td>Sao Tome and Principe</td>\n",
       "      <td>0.186400</td>\n",
       "      <td>6.613100</td>\n",
       "      <td>2020-07-27</td>\n",
       "      <td>865</td>\n",
       "      <td>14</td>\n",
       "      <td>734</td>\n",
       "      <td>117</td>\n",
       "      <td>Africa</td>\n",
       "    </tr>\n",
       "    <tr>\n",
       "      <th>49064</th>\n",
       "      <td>NaN</td>\n",
       "      <td>Yemen</td>\n",
       "      <td>15.552727</td>\n",
       "      <td>48.516388</td>\n",
       "      <td>2020-07-27</td>\n",
       "      <td>1691</td>\n",
       "      <td>483</td>\n",
       "      <td>833</td>\n",
       "      <td>375</td>\n",
       "      <td>Eastern Mediterranean</td>\n",
       "    </tr>\n",
       "    <tr>\n",
       "      <th>49065</th>\n",
       "      <td>NaN</td>\n",
       "      <td>Comoros</td>\n",
       "      <td>-11.645500</td>\n",
       "      <td>43.333300</td>\n",
       "      <td>2020-07-27</td>\n",
       "      <td>354</td>\n",
       "      <td>7</td>\n",
       "      <td>328</td>\n",
       "      <td>19</td>\n",
       "      <td>Africa</td>\n",
       "    </tr>\n",
       "    <tr>\n",
       "      <th>49066</th>\n",
       "      <td>NaN</td>\n",
       "      <td>Tajikistan</td>\n",
       "      <td>38.861000</td>\n",
       "      <td>71.276100</td>\n",
       "      <td>2020-07-27</td>\n",
       "      <td>7235</td>\n",
       "      <td>60</td>\n",
       "      <td>6028</td>\n",
       "      <td>1147</td>\n",
       "      <td>Europe</td>\n",
       "    </tr>\n",
       "    <tr>\n",
       "      <th>49067</th>\n",
       "      <td>NaN</td>\n",
       "      <td>Lesotho</td>\n",
       "      <td>-29.610000</td>\n",
       "      <td>28.233600</td>\n",
       "      <td>2020-07-27</td>\n",
       "      <td>505</td>\n",
       "      <td>12</td>\n",
       "      <td>128</td>\n",
       "      <td>365</td>\n",
       "      <td>Africa</td>\n",
       "    </tr>\n",
       "  </tbody>\n",
       "</table>\n",
       "<p>49068 rows × 10 columns</p>\n",
       "</div>"
      ],
      "text/plain": [
       "      Province/State         Country/Region        Lat       Long        Date  \\\n",
       "0                NaN            Afghanistan  33.939110  67.709953  2020-01-22   \n",
       "1                NaN                Albania  41.153300  20.168300  2020-01-22   \n",
       "2                NaN                Algeria  28.033900   1.659600  2020-01-22   \n",
       "3                NaN                Andorra  42.506300   1.521800  2020-01-22   \n",
       "4                NaN                 Angola -11.202700  17.873900  2020-01-22   \n",
       "...              ...                    ...        ...        ...         ...   \n",
       "49063            NaN  Sao Tome and Principe   0.186400   6.613100  2020-07-27   \n",
       "49064            NaN                  Yemen  15.552727  48.516388  2020-07-27   \n",
       "49065            NaN                Comoros -11.645500  43.333300  2020-07-27   \n",
       "49066            NaN             Tajikistan  38.861000  71.276100  2020-07-27   \n",
       "49067            NaN                Lesotho -29.610000  28.233600  2020-07-27   \n",
       "\n",
       "       Confirmed  Deaths  Recovered  Active             WHO Region  \n",
       "0              0       0          0       0  Eastern Mediterranean  \n",
       "1              0       0          0       0                 Europe  \n",
       "2              0       0          0       0                 Africa  \n",
       "3              0       0          0       0                 Europe  \n",
       "4              0       0          0       0                 Africa  \n",
       "...          ...     ...        ...     ...                    ...  \n",
       "49063        865      14        734     117                 Africa  \n",
       "49064       1691     483        833     375  Eastern Mediterranean  \n",
       "49065        354       7        328      19                 Africa  \n",
       "49066       7235      60       6028    1147                 Europe  \n",
       "49067        505      12        128     365                 Africa  \n",
       "\n",
       "[49068 rows x 10 columns]"
      ]
     },
     "execution_count": 87,
     "metadata": {},
     "output_type": "execute_result"
    }
   ],
   "source": []
  },
  {
   "cell_type": "code",
   "execution_count": null,
   "id": "38791397",
   "metadata": {},
   "outputs": [],
   "source": []
  }
 ],
 "metadata": {
  "kernelspec": {
   "display_name": "Python 3 (ipykernel)",
   "language": "python",
   "name": "python3"
  },
  "language_info": {
   "codemirror_mode": {
    "name": "ipython",
    "version": 3
   },
   "file_extension": ".py",
   "mimetype": "text/x-python",
   "name": "python",
   "nbconvert_exporter": "python",
   "pygments_lexer": "ipython3",
   "version": "3.9.12"
  }
 },
 "nbformat": 4,
 "nbformat_minor": 5
}
