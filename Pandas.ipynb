{
 "cells": [
  {
   "cell_type": "raw",
   "id": "40a6a97a-a578-475a-b0f6-a4eafabea9eb",
   "metadata": {},
   "source": [
    "Pandas -- Pandas is used for data manipulation analysis and cleaning "
   ]
  },
  {
   "cell_type": "code",
   "execution_count": 1,
   "id": "01e91deb-c368-47d7-9a16-fedc6babc45e",
   "metadata": {},
   "outputs": [],
   "source": [
    "import pandas as pd\n",
    "import numpy as np "
   ]
  },
  {
   "cell_type": "code",
   "execution_count": 2,
   "id": "d6344b13",
   "metadata": {},
   "outputs": [],
   "source": [
    "s=pd.Series([1,2,3,4,5,6,7,8,9,10])"
   ]
  },
  {
   "cell_type": "code",
   "execution_count": 3,
   "id": "15db4805",
   "metadata": {},
   "outputs": [
    {
     "name": "stdout",
     "output_type": "stream",
     "text": [
      "0     1\n",
      "1     2\n",
      "2     3\n",
      "3     4\n",
      "4     5\n",
      "5     6\n",
      "6     7\n",
      "7     8\n",
      "8     9\n",
      "9    10\n",
      "dtype: int64\n"
     ]
    }
   ],
   "source": [
    "print(s)"
   ]
  },
  {
   "cell_type": "code",
   "execution_count": 4,
   "id": "0cfe5b1e",
   "metadata": {},
   "outputs": [],
   "source": [
    "d=pd.date_range('20020301',periods=10)"
   ]
  },
  {
   "cell_type": "code",
   "execution_count": 5,
   "id": "7563c040",
   "metadata": {},
   "outputs": [
    {
     "name": "stdout",
     "output_type": "stream",
     "text": [
      "DatetimeIndex(['2002-03-01', '2002-03-02', '2002-03-03', '2002-03-04',\n",
      "               '2002-03-05', '2002-03-06', '2002-03-07', '2002-03-08',\n",
      "               '2002-03-09', '2002-03-10'],\n",
      "              dtype='datetime64[ns]', freq='D')\n"
     ]
    }
   ],
   "source": [
    "print(d)"
   ]
  },
  {
   "cell_type": "code",
   "execution_count": 6,
   "id": "37679799",
   "metadata": {},
   "outputs": [],
   "source": [
    "df=pd.DataFrame(np.random.randn(10,4),index=d,columns=['A','B','C','D'])"
   ]
  },
  {
   "cell_type": "code",
   "execution_count": 7,
   "id": "ed2a5261",
   "metadata": {},
   "outputs": [
    {
     "name": "stdout",
     "output_type": "stream",
     "text": [
      "                   A         B         C         D\n",
      "2002-03-01 -0.818602 -1.130923 -0.593194 -0.278080\n",
      "2002-03-02 -0.359940  0.367009 -0.093283  0.407153\n",
      "2002-03-03  0.229818  0.797151  3.086393 -1.162903\n",
      "2002-03-04  0.955823 -0.471907 -1.391095  0.569345\n",
      "2002-03-05 -0.428979  1.496610  1.767154 -1.564334\n",
      "2002-03-06 -1.485679 -0.211510  0.313440 -0.079958\n",
      "2002-03-07  3.300614  1.605024 -0.208378 -0.405459\n",
      "2002-03-08  0.855264 -1.115427  0.125608 -1.413724\n",
      "2002-03-09 -1.278479 -0.426647  1.501668 -0.681226\n",
      "2002-03-10 -1.253418 -0.528924  1.142932 -1.172095\n"
     ]
    }
   ],
   "source": [
    "print(df)"
   ]
  },
  {
   "cell_type": "code",
   "execution_count": 8,
   "id": "03eb8d27",
   "metadata": {},
   "outputs": [],
   "source": [
    "df1=pd.DataFrame({'A':[1,2,8,4,5],\n",
    "                 'B':pd.Timestamp('20230301'),\n",
    "                 'C':pd.Series(1,index=list(range(5)),dtype='float32'),\n",
    "                 'D':np.array([5]*5, dtype='int32'),\n",
    "                 'E':pd.Categorical(['true','False','True','False','True']),\n",
    "                 'F':\"Rajan\"\n",
    "                })"
   ]
  },
  {
   "cell_type": "code",
   "execution_count": 9,
   "id": "aad8a1c4",
   "metadata": {},
   "outputs": [
    {
     "name": "stdout",
     "output_type": "stream",
     "text": [
      "   A          B    C  D      E      F\n",
      "0  1 2023-03-01  1.0  5   true  Rajan\n",
      "1  2 2023-03-01  1.0  5  False  Rajan\n",
      "2  8 2023-03-01  1.0  5   True  Rajan\n",
      "3  4 2023-03-01  1.0  5  False  Rajan\n",
      "4  5 2023-03-01  1.0  5   True  Rajan\n"
     ]
    }
   ],
   "source": [
    "print(df1)"
   ]
  },
  {
   "cell_type": "code",
   "execution_count": 10,
   "id": "efe4657f",
   "metadata": {},
   "outputs": [
    {
     "data": {
      "text/plain": [
       "A             int64\n",
       "B    datetime64[ns]\n",
       "C           float32\n",
       "D             int32\n",
       "E          category\n",
       "F            object\n",
       "dtype: object"
      ]
     },
     "execution_count": 10,
     "metadata": {},
     "output_type": "execute_result"
    }
   ],
   "source": [
    "df1.dtypes"
   ]
  },
  {
   "cell_type": "code",
   "execution_count": 16,
   "id": "2cb1275d",
   "metadata": {},
   "outputs": [
    {
     "data": {
      "text/html": [
       "<div>\n",
       "<style scoped>\n",
       "    .dataframe tbody tr th:only-of-type {\n",
       "        vertical-align: middle;\n",
       "    }\n",
       "\n",
       "    .dataframe tbody tr th {\n",
       "        vertical-align: top;\n",
       "    }\n",
       "\n",
       "    .dataframe thead th {\n",
       "        text-align: right;\n",
       "    }\n",
       "</style>\n",
       "<table border=\"1\" class=\"dataframe\">\n",
       "  <thead>\n",
       "    <tr style=\"text-align: right;\">\n",
       "      <th></th>\n",
       "      <th>A</th>\n",
       "      <th>B</th>\n",
       "      <th>C</th>\n",
       "      <th>D</th>\n",
       "    </tr>\n",
       "  </thead>\n",
       "  <tbody>\n",
       "    <tr>\n",
       "      <th>2002-03-01</th>\n",
       "      <td>-0.818602</td>\n",
       "      <td>-1.130923</td>\n",
       "      <td>-0.593194</td>\n",
       "      <td>-0.278080</td>\n",
       "    </tr>\n",
       "    <tr>\n",
       "      <th>2002-03-02</th>\n",
       "      <td>-0.359940</td>\n",
       "      <td>0.367009</td>\n",
       "      <td>-0.093283</td>\n",
       "      <td>0.407153</td>\n",
       "    </tr>\n",
       "    <tr>\n",
       "      <th>2002-03-03</th>\n",
       "      <td>0.229818</td>\n",
       "      <td>0.797151</td>\n",
       "      <td>3.086393</td>\n",
       "      <td>-1.162903</td>\n",
       "    </tr>\n",
       "    <tr>\n",
       "      <th>2002-03-04</th>\n",
       "      <td>0.955823</td>\n",
       "      <td>-0.471907</td>\n",
       "      <td>-1.391095</td>\n",
       "      <td>0.569345</td>\n",
       "    </tr>\n",
       "    <tr>\n",
       "      <th>2002-03-05</th>\n",
       "      <td>-0.428979</td>\n",
       "      <td>1.496610</td>\n",
       "      <td>1.767154</td>\n",
       "      <td>-1.564334</td>\n",
       "    </tr>\n",
       "  </tbody>\n",
       "</table>\n",
       "</div>"
      ],
      "text/plain": [
       "                   A         B         C         D\n",
       "2002-03-01 -0.818602 -1.130923 -0.593194 -0.278080\n",
       "2002-03-02 -0.359940  0.367009 -0.093283  0.407153\n",
       "2002-03-03  0.229818  0.797151  3.086393 -1.162903\n",
       "2002-03-04  0.955823 -0.471907 -1.391095  0.569345\n",
       "2002-03-05 -0.428979  1.496610  1.767154 -1.564334"
      ]
     },
     "execution_count": 16,
     "metadata": {},
     "output_type": "execute_result"
    }
   ],
   "source": [
    "df.head() \n",
    "# head it will return the top 5 of data "
   ]
  },
  {
   "cell_type": "code",
   "execution_count": 17,
   "id": "fa0dc8cc",
   "metadata": {},
   "outputs": [
    {
     "data": {
      "text/html": [
       "<div>\n",
       "<style scoped>\n",
       "    .dataframe tbody tr th:only-of-type {\n",
       "        vertical-align: middle;\n",
       "    }\n",
       "\n",
       "    .dataframe tbody tr th {\n",
       "        vertical-align: top;\n",
       "    }\n",
       "\n",
       "    .dataframe thead th {\n",
       "        text-align: right;\n",
       "    }\n",
       "</style>\n",
       "<table border=\"1\" class=\"dataframe\">\n",
       "  <thead>\n",
       "    <tr style=\"text-align: right;\">\n",
       "      <th></th>\n",
       "      <th>A</th>\n",
       "      <th>B</th>\n",
       "      <th>C</th>\n",
       "      <th>D</th>\n",
       "    </tr>\n",
       "  </thead>\n",
       "  <tbody>\n",
       "    <tr>\n",
       "      <th>2002-03-06</th>\n",
       "      <td>-1.485679</td>\n",
       "      <td>-0.211510</td>\n",
       "      <td>0.313440</td>\n",
       "      <td>-0.079958</td>\n",
       "    </tr>\n",
       "    <tr>\n",
       "      <th>2002-03-07</th>\n",
       "      <td>3.300614</td>\n",
       "      <td>1.605024</td>\n",
       "      <td>-0.208378</td>\n",
       "      <td>-0.405459</td>\n",
       "    </tr>\n",
       "    <tr>\n",
       "      <th>2002-03-08</th>\n",
       "      <td>0.855264</td>\n",
       "      <td>-1.115427</td>\n",
       "      <td>0.125608</td>\n",
       "      <td>-1.413724</td>\n",
       "    </tr>\n",
       "    <tr>\n",
       "      <th>2002-03-09</th>\n",
       "      <td>-1.278479</td>\n",
       "      <td>-0.426647</td>\n",
       "      <td>1.501668</td>\n",
       "      <td>-0.681226</td>\n",
       "    </tr>\n",
       "    <tr>\n",
       "      <th>2002-03-10</th>\n",
       "      <td>-1.253418</td>\n",
       "      <td>-0.528924</td>\n",
       "      <td>1.142932</td>\n",
       "      <td>-1.172095</td>\n",
       "    </tr>\n",
       "  </tbody>\n",
       "</table>\n",
       "</div>"
      ],
      "text/plain": [
       "                   A         B         C         D\n",
       "2002-03-06 -1.485679 -0.211510  0.313440 -0.079958\n",
       "2002-03-07  3.300614  1.605024 -0.208378 -0.405459\n",
       "2002-03-08  0.855264 -1.115427  0.125608 -1.413724\n",
       "2002-03-09 -1.278479 -0.426647  1.501668 -0.681226\n",
       "2002-03-10 -1.253418 -0.528924  1.142932 -1.172095"
      ]
     },
     "execution_count": 17,
     "metadata": {},
     "output_type": "execute_result"
    }
   ],
   "source": [
    "df.tail()\n",
    "# tail will return the bottom 5 of the data "
   ]
  },
  {
   "cell_type": "code",
   "execution_count": 13,
   "id": "15e21342",
   "metadata": {},
   "outputs": [
    {
     "data": {
      "text/plain": [
       "DatetimeIndex(['2002-03-01', '2002-03-02', '2002-03-03', '2002-03-04',\n",
       "               '2002-03-05', '2002-03-06', '2002-03-07', '2002-03-08',\n",
       "               '2002-03-09', '2002-03-10'],\n",
       "              dtype='datetime64[ns]', freq='D')"
      ]
     },
     "execution_count": 13,
     "metadata": {},
     "output_type": "execute_result"
    }
   ],
   "source": [
    "df.index\n",
    "# it return the all index value from data "
   ]
  },
  {
   "cell_type": "code",
   "execution_count": 18,
   "id": "f819f20b",
   "metadata": {},
   "outputs": [
    {
     "data": {
      "text/plain": [
       "Index(['A', 'B', 'C', 'D'], dtype='object')"
      ]
     },
     "execution_count": 18,
     "metadata": {},
     "output_type": "execute_result"
    }
   ],
   "source": [
    "df.columns\n",
    "# columns  return the numbe of coloums "
   ]
  },
  {
   "cell_type": "code",
   "execution_count": 19,
   "id": "b7c6b97d",
   "metadata": {},
   "outputs": [
    {
     "data": {
      "text/plain": [
       "Index(['A', 'B', 'C', 'D', 'E', 'F'], dtype='object')"
      ]
     },
     "execution_count": 19,
     "metadata": {},
     "output_type": "execute_result"
    }
   ],
   "source": [
    "df1.columns"
   ]
  },
  {
   "cell_type": "code",
   "execution_count": 21,
   "id": "0efd45cd",
   "metadata": {},
   "outputs": [
    {
     "data": {
      "text/plain": [
       "array([[-0.81860185, -1.1309232 , -0.59319369, -0.27808002],\n",
       "       [-0.35993985,  0.3670087 , -0.09328299,  0.40715319],\n",
       "       [ 0.22981844,  0.79715099,  3.08639257, -1.16290309],\n",
       "       [ 0.955823  , -0.47190652, -1.39109546,  0.56934478],\n",
       "       [-0.4289786 ,  1.49660976,  1.76715395, -1.56433429],\n",
       "       [-1.48567923, -0.21151031,  0.31343984, -0.07995819],\n",
       "       [ 3.30061432,  1.60502429, -0.20837804, -0.40545945],\n",
       "       [ 0.85526437, -1.11542744,  0.12560805, -1.41372363],\n",
       "       [-1.27847851, -0.42664672,  1.50166818, -0.68122636],\n",
       "       [-1.25341812, -0.5289243 ,  1.14293218, -1.17209506]])"
      ]
     },
     "execution_count": 21,
     "metadata": {},
     "output_type": "execute_result"
    }
   ],
   "source": [
    "df.to_numpy()"
   ]
  },
  {
   "cell_type": "code",
   "execution_count": 22,
   "id": "a1792510",
   "metadata": {},
   "outputs": [
    {
     "data": {
      "text/html": [
       "<div>\n",
       "<style scoped>\n",
       "    .dataframe tbody tr th:only-of-type {\n",
       "        vertical-align: middle;\n",
       "    }\n",
       "\n",
       "    .dataframe tbody tr th {\n",
       "        vertical-align: top;\n",
       "    }\n",
       "\n",
       "    .dataframe thead th {\n",
       "        text-align: right;\n",
       "    }\n",
       "</style>\n",
       "<table border=\"1\" class=\"dataframe\">\n",
       "  <thead>\n",
       "    <tr style=\"text-align: right;\">\n",
       "      <th></th>\n",
       "      <th>A</th>\n",
       "      <th>B</th>\n",
       "      <th>C</th>\n",
       "      <th>D</th>\n",
       "    </tr>\n",
       "  </thead>\n",
       "  <tbody>\n",
       "    <tr>\n",
       "      <th>count</th>\n",
       "      <td>10.000000</td>\n",
       "      <td>10.000000</td>\n",
       "      <td>10.000000</td>\n",
       "      <td>10.000000</td>\n",
       "    </tr>\n",
       "    <tr>\n",
       "      <th>mean</th>\n",
       "      <td>-0.028358</td>\n",
       "      <td>0.038046</td>\n",
       "      <td>0.565124</td>\n",
       "      <td>-0.578128</td>\n",
       "    </tr>\n",
       "    <tr>\n",
       "      <th>std</th>\n",
       "      <td>1.452217</td>\n",
       "      <td>0.990174</td>\n",
       "      <td>1.311041</td>\n",
       "      <td>0.747715</td>\n",
       "    </tr>\n",
       "    <tr>\n",
       "      <th>min</th>\n",
       "      <td>-1.485679</td>\n",
       "      <td>-1.130923</td>\n",
       "      <td>-1.391095</td>\n",
       "      <td>-1.564334</td>\n",
       "    </tr>\n",
       "    <tr>\n",
       "      <th>25%</th>\n",
       "      <td>-1.144714</td>\n",
       "      <td>-0.514670</td>\n",
       "      <td>-0.179604</td>\n",
       "      <td>-1.169797</td>\n",
       "    </tr>\n",
       "    <tr>\n",
       "      <th>50%</th>\n",
       "      <td>-0.394459</td>\n",
       "      <td>-0.319079</td>\n",
       "      <td>0.219524</td>\n",
       "      <td>-0.543343</td>\n",
       "    </tr>\n",
       "    <tr>\n",
       "      <th>75%</th>\n",
       "      <td>0.698903</td>\n",
       "      <td>0.689615</td>\n",
       "      <td>1.411984</td>\n",
       "      <td>-0.129489</td>\n",
       "    </tr>\n",
       "    <tr>\n",
       "      <th>max</th>\n",
       "      <td>3.300614</td>\n",
       "      <td>1.605024</td>\n",
       "      <td>3.086393</td>\n",
       "      <td>0.569345</td>\n",
       "    </tr>\n",
       "  </tbody>\n",
       "</table>\n",
       "</div>"
      ],
      "text/plain": [
       "               A          B          C          D\n",
       "count  10.000000  10.000000  10.000000  10.000000\n",
       "mean   -0.028358   0.038046   0.565124  -0.578128\n",
       "std     1.452217   0.990174   1.311041   0.747715\n",
       "min    -1.485679  -1.130923  -1.391095  -1.564334\n",
       "25%    -1.144714  -0.514670  -0.179604  -1.169797\n",
       "50%    -0.394459  -0.319079   0.219524  -0.543343\n",
       "75%     0.698903   0.689615   1.411984  -0.129489\n",
       "max     3.300614   1.605024   3.086393   0.569345"
      ]
     },
     "execution_count": 22,
     "metadata": {},
     "output_type": "execute_result"
    }
   ],
   "source": [
    "df.describe()"
   ]
  },
  {
   "cell_type": "code",
   "execution_count": null,
   "id": "a7dbfbeb",
   "metadata": {},
   "outputs": [],
   "source": []
  }
 ],
 "metadata": {
  "kernelspec": {
   "display_name": "Python 3 (ipykernel)",
   "language": "python",
   "name": "python3"
  },
  "language_info": {
   "codemirror_mode": {
    "name": "ipython",
    "version": 3
   },
   "file_extension": ".py",
   "mimetype": "text/x-python",
   "name": "python",
   "nbconvert_exporter": "python",
   "pygments_lexer": "ipython3",
   "version": "3.9.12"
  }
 },
 "nbformat": 4,
 "nbformat_minor": 5
}
