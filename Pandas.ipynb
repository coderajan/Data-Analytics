{
 "cells": [
  {
   "cell_type": "raw",
   "id": "40a6a97a-a578-475a-b0f6-a4eafabea9eb",
   "metadata": {},
   "source": [
    "Pandas -- Pandas is used for data manipulation analysis and cleaning "
   ]
  },
  {
   "cell_type": "code",
   "execution_count": 1,
   "id": "01e91deb-c368-47d7-9a16-fedc6babc45e",
   "metadata": {},
   "outputs": [],
   "source": [
    "import pandas as pd\n",
    "import numpy as np "
   ]
  },
  {
   "cell_type": "code",
   "execution_count": 2,
   "id": "d6344b13",
   "metadata": {},
   "outputs": [],
   "source": [
    "s=pd.Series([1,2,3,4,5,6,7,8,9,10])"
   ]
  },
  {
   "cell_type": "code",
   "execution_count": 3,
   "id": "15db4805",
   "metadata": {},
   "outputs": [
    {
     "name": "stdout",
     "output_type": "stream",
     "text": [
      "0     1\n",
      "1     2\n",
      "2     3\n",
      "3     4\n",
      "4     5\n",
      "5     6\n",
      "6     7\n",
      "7     8\n",
      "8     9\n",
      "9    10\n",
      "dtype: int64\n"
     ]
    }
   ],
   "source": [
    "print(s)"
   ]
  },
  {
   "cell_type": "code",
   "execution_count": 4,
   "id": "0cfe5b1e",
   "metadata": {},
   "outputs": [],
   "source": [
    "d=pd.date_range('20020301',periods=10)"
   ]
  },
  {
   "cell_type": "code",
   "execution_count": 5,
   "id": "7563c040",
   "metadata": {},
   "outputs": [
    {
     "name": "stdout",
     "output_type": "stream",
     "text": [
      "DatetimeIndex(['2002-03-01', '2002-03-02', '2002-03-03', '2002-03-04',\n",
      "               '2002-03-05', '2002-03-06', '2002-03-07', '2002-03-08',\n",
      "               '2002-03-09', '2002-03-10'],\n",
      "              dtype='datetime64[ns]', freq='D')\n"
     ]
    }
   ],
   "source": [
    "print(d)"
   ]
  },
  {
   "cell_type": "code",
   "execution_count": 6,
   "id": "37679799",
   "metadata": {},
   "outputs": [],
   "source": [
    "df=pd.DataFrame(np.random.randn(10,4),index=d,columns=['A','B','C','D'])"
   ]
  },
  {
   "cell_type": "code",
   "execution_count": 7,
   "id": "ed2a5261",
   "metadata": {},
   "outputs": [
    {
     "name": "stdout",
     "output_type": "stream",
     "text": [
      "                   A         B         C         D\n",
      "2002-03-01  0.440661 -0.323184 -0.372120 -1.754519\n",
      "2002-03-02  0.460905 -0.793540  0.076552  0.228480\n",
      "2002-03-03  0.644773  1.488210  0.109205  0.324083\n",
      "2002-03-04 -0.926943 -0.314424 -1.191608  0.737745\n",
      "2002-03-05  0.731510 -1.437294 -1.028375  0.304454\n",
      "2002-03-06 -1.702933 -1.097423  0.362248  0.615953\n",
      "2002-03-07 -0.358349  0.796041 -0.308464 -0.431374\n",
      "2002-03-08 -2.273382  0.734601 -0.507984 -1.332302\n",
      "2002-03-09  0.068889 -0.642809 -1.871480 -0.191310\n",
      "2002-03-10  0.253730  0.097930  2.355097 -1.083530\n"
     ]
    }
   ],
   "source": [
    "print(df)"
   ]
  },
  {
   "cell_type": "code",
   "execution_count": 36,
   "id": "03eb8d27",
   "metadata": {},
   "outputs": [],
   "source": [
    "df1=pd.DataFrame({'A':[1,2,8,4,5],\n",
    "                 'B':pd.Timestamp('20230301'),\n",
    "                 'C':pd.Series(1,index=list(range(5))),\n",
    "                 'D':np.array([5]*5, dtype='int32'),\n",
    "                 'E':pd.Categorical(['true','False','True','False','True']),\n",
    "                 'F':\"Rajan\"\n",
    "                })"
   ]
  },
  {
   "cell_type": "code",
   "execution_count": 37,
   "id": "aad8a1c4",
   "metadata": {},
   "outputs": [
    {
     "name": "stdout",
     "output_type": "stream",
     "text": [
      "   A          B  C  D      E      F\n",
      "0  1 2023-03-01  1  5   true  Rajan\n",
      "1  2 2023-03-01  1  5  False  Rajan\n",
      "2  8 2023-03-01  1  5   True  Rajan\n",
      "3  4 2023-03-01  1  5  False  Rajan\n",
      "4  5 2023-03-01  1  5   True  Rajan\n"
     ]
    }
   ],
   "source": [
    "print(df1)"
   ]
  },
  {
   "cell_type": "code",
   "execution_count": 10,
   "id": "efe4657f",
   "metadata": {},
   "outputs": [
    {
     "data": {
      "text/plain": [
       "A             int64\n",
       "B    datetime64[ns]\n",
       "C           float32\n",
       "D             int32\n",
       "E          category\n",
       "F            object\n",
       "dtype: object"
      ]
     },
     "execution_count": 10,
     "metadata": {},
     "output_type": "execute_result"
    }
   ],
   "source": [
    "df1.dtypes"
   ]
  },
  {
   "cell_type": "code",
   "execution_count": 11,
   "id": "2cb1275d",
   "metadata": {},
   "outputs": [
    {
     "data": {
      "text/html": [
       "<div>\n",
       "<style scoped>\n",
       "    .dataframe tbody tr th:only-of-type {\n",
       "        vertical-align: middle;\n",
       "    }\n",
       "\n",
       "    .dataframe tbody tr th {\n",
       "        vertical-align: top;\n",
       "    }\n",
       "\n",
       "    .dataframe thead th {\n",
       "        text-align: right;\n",
       "    }\n",
       "</style>\n",
       "<table border=\"1\" class=\"dataframe\">\n",
       "  <thead>\n",
       "    <tr style=\"text-align: right;\">\n",
       "      <th></th>\n",
       "      <th>A</th>\n",
       "      <th>B</th>\n",
       "      <th>C</th>\n",
       "      <th>D</th>\n",
       "    </tr>\n",
       "  </thead>\n",
       "  <tbody>\n",
       "    <tr>\n",
       "      <th>2002-03-01</th>\n",
       "      <td>0.440661</td>\n",
       "      <td>-0.323184</td>\n",
       "      <td>-0.372120</td>\n",
       "      <td>-1.754519</td>\n",
       "    </tr>\n",
       "    <tr>\n",
       "      <th>2002-03-02</th>\n",
       "      <td>0.460905</td>\n",
       "      <td>-0.793540</td>\n",
       "      <td>0.076552</td>\n",
       "      <td>0.228480</td>\n",
       "    </tr>\n",
       "    <tr>\n",
       "      <th>2002-03-03</th>\n",
       "      <td>0.644773</td>\n",
       "      <td>1.488210</td>\n",
       "      <td>0.109205</td>\n",
       "      <td>0.324083</td>\n",
       "    </tr>\n",
       "    <tr>\n",
       "      <th>2002-03-04</th>\n",
       "      <td>-0.926943</td>\n",
       "      <td>-0.314424</td>\n",
       "      <td>-1.191608</td>\n",
       "      <td>0.737745</td>\n",
       "    </tr>\n",
       "    <tr>\n",
       "      <th>2002-03-05</th>\n",
       "      <td>0.731510</td>\n",
       "      <td>-1.437294</td>\n",
       "      <td>-1.028375</td>\n",
       "      <td>0.304454</td>\n",
       "    </tr>\n",
       "  </tbody>\n",
       "</table>\n",
       "</div>"
      ],
      "text/plain": [
       "                   A         B         C         D\n",
       "2002-03-01  0.440661 -0.323184 -0.372120 -1.754519\n",
       "2002-03-02  0.460905 -0.793540  0.076552  0.228480\n",
       "2002-03-03  0.644773  1.488210  0.109205  0.324083\n",
       "2002-03-04 -0.926943 -0.314424 -1.191608  0.737745\n",
       "2002-03-05  0.731510 -1.437294 -1.028375  0.304454"
      ]
     },
     "execution_count": 11,
     "metadata": {},
     "output_type": "execute_result"
    }
   ],
   "source": [
    "df.head() \n",
    "# head it will return the top 5 of data "
   ]
  },
  {
   "cell_type": "code",
   "execution_count": 12,
   "id": "fa0dc8cc",
   "metadata": {},
   "outputs": [
    {
     "data": {
      "text/html": [
       "<div>\n",
       "<style scoped>\n",
       "    .dataframe tbody tr th:only-of-type {\n",
       "        vertical-align: middle;\n",
       "    }\n",
       "\n",
       "    .dataframe tbody tr th {\n",
       "        vertical-align: top;\n",
       "    }\n",
       "\n",
       "    .dataframe thead th {\n",
       "        text-align: right;\n",
       "    }\n",
       "</style>\n",
       "<table border=\"1\" class=\"dataframe\">\n",
       "  <thead>\n",
       "    <tr style=\"text-align: right;\">\n",
       "      <th></th>\n",
       "      <th>A</th>\n",
       "      <th>B</th>\n",
       "      <th>C</th>\n",
       "      <th>D</th>\n",
       "    </tr>\n",
       "  </thead>\n",
       "  <tbody>\n",
       "    <tr>\n",
       "      <th>2002-03-06</th>\n",
       "      <td>-1.702933</td>\n",
       "      <td>-1.097423</td>\n",
       "      <td>0.362248</td>\n",
       "      <td>0.615953</td>\n",
       "    </tr>\n",
       "    <tr>\n",
       "      <th>2002-03-07</th>\n",
       "      <td>-0.358349</td>\n",
       "      <td>0.796041</td>\n",
       "      <td>-0.308464</td>\n",
       "      <td>-0.431374</td>\n",
       "    </tr>\n",
       "    <tr>\n",
       "      <th>2002-03-08</th>\n",
       "      <td>-2.273382</td>\n",
       "      <td>0.734601</td>\n",
       "      <td>-0.507984</td>\n",
       "      <td>-1.332302</td>\n",
       "    </tr>\n",
       "    <tr>\n",
       "      <th>2002-03-09</th>\n",
       "      <td>0.068889</td>\n",
       "      <td>-0.642809</td>\n",
       "      <td>-1.871480</td>\n",
       "      <td>-0.191310</td>\n",
       "    </tr>\n",
       "    <tr>\n",
       "      <th>2002-03-10</th>\n",
       "      <td>0.253730</td>\n",
       "      <td>0.097930</td>\n",
       "      <td>2.355097</td>\n",
       "      <td>-1.083530</td>\n",
       "    </tr>\n",
       "  </tbody>\n",
       "</table>\n",
       "</div>"
      ],
      "text/plain": [
       "                   A         B         C         D\n",
       "2002-03-06 -1.702933 -1.097423  0.362248  0.615953\n",
       "2002-03-07 -0.358349  0.796041 -0.308464 -0.431374\n",
       "2002-03-08 -2.273382  0.734601 -0.507984 -1.332302\n",
       "2002-03-09  0.068889 -0.642809 -1.871480 -0.191310\n",
       "2002-03-10  0.253730  0.097930  2.355097 -1.083530"
      ]
     },
     "execution_count": 12,
     "metadata": {},
     "output_type": "execute_result"
    }
   ],
   "source": [
    "df.tail()\n",
    "# tail will return the bottom 5 of the data "
   ]
  },
  {
   "cell_type": "code",
   "execution_count": 13,
   "id": "15e21342",
   "metadata": {},
   "outputs": [
    {
     "data": {
      "text/plain": [
       "DatetimeIndex(['2002-03-01', '2002-03-02', '2002-03-03', '2002-03-04',\n",
       "               '2002-03-05', '2002-03-06', '2002-03-07', '2002-03-08',\n",
       "               '2002-03-09', '2002-03-10'],\n",
       "              dtype='datetime64[ns]', freq='D')"
      ]
     },
     "execution_count": 13,
     "metadata": {},
     "output_type": "execute_result"
    }
   ],
   "source": [
    "df.index\n",
    "# it return the all index value from data "
   ]
  },
  {
   "cell_type": "code",
   "execution_count": 14,
   "id": "f819f20b",
   "metadata": {},
   "outputs": [
    {
     "data": {
      "text/plain": [
       "Index(['A', 'B', 'C', 'D'], dtype='object')"
      ]
     },
     "execution_count": 14,
     "metadata": {},
     "output_type": "execute_result"
    }
   ],
   "source": [
    "df.columns\n",
    "# columns  return the numbe of coloums "
   ]
  },
  {
   "cell_type": "code",
   "execution_count": 15,
   "id": "b7c6b97d",
   "metadata": {},
   "outputs": [
    {
     "data": {
      "text/plain": [
       "Index(['A', 'B', 'C', 'D', 'E', 'F'], dtype='object')"
      ]
     },
     "execution_count": 15,
     "metadata": {},
     "output_type": "execute_result"
    }
   ],
   "source": [
    "df1.columns"
   ]
  },
  {
   "cell_type": "code",
   "execution_count": 16,
   "id": "0efd45cd",
   "metadata": {},
   "outputs": [
    {
     "data": {
      "text/plain": [
       "array([[ 0.44066065, -0.32318446, -0.37212006, -1.75451924],\n",
       "       [ 0.4609046 , -0.79354004,  0.07655219,  0.22847954],\n",
       "       [ 0.64477325,  1.48821042,  0.10920491,  0.32408292],\n",
       "       [-0.92694324, -0.31442449, -1.19160829,  0.7377452 ],\n",
       "       [ 0.73150996, -1.43729392, -1.02837453,  0.30445367],\n",
       "       [-1.70293287, -1.09742329,  0.3622484 ,  0.61595283],\n",
       "       [-0.35834851,  0.7960408 , -0.30846397, -0.43137352],\n",
       "       [-2.27338151,  0.7346012 , -0.50798421, -1.33230204],\n",
       "       [ 0.06888944, -0.64280922, -1.87148043, -0.19130997],\n",
       "       [ 0.25372971,  0.09792988,  2.35509719, -1.08353042]])"
      ]
     },
     "execution_count": 16,
     "metadata": {},
     "output_type": "execute_result"
    }
   ],
   "source": [
    "df.to_numpy()"
   ]
  },
  {
   "cell_type": "code",
   "execution_count": 40,
   "id": "a1792510",
   "metadata": {},
   "outputs": [
    {
     "data": {
      "text/html": [
       "<div>\n",
       "<style scoped>\n",
       "    .dataframe tbody tr th:only-of-type {\n",
       "        vertical-align: middle;\n",
       "    }\n",
       "\n",
       "    .dataframe tbody tr th {\n",
       "        vertical-align: top;\n",
       "    }\n",
       "\n",
       "    .dataframe thead th {\n",
       "        text-align: right;\n",
       "    }\n",
       "</style>\n",
       "<table border=\"1\" class=\"dataframe\">\n",
       "  <thead>\n",
       "    <tr style=\"text-align: right;\">\n",
       "      <th></th>\n",
       "      <th>D</th>\n",
       "      <th>C</th>\n",
       "      <th>B</th>\n",
       "      <th>A</th>\n",
       "    </tr>\n",
       "  </thead>\n",
       "  <tbody>\n",
       "    <tr>\n",
       "      <th>2002-03-01</th>\n",
       "      <td>-1.754519</td>\n",
       "      <td>-0.372120</td>\n",
       "      <td>-0.323184</td>\n",
       "      <td>0.440661</td>\n",
       "    </tr>\n",
       "    <tr>\n",
       "      <th>2002-03-02</th>\n",
       "      <td>0.228480</td>\n",
       "      <td>0.076552</td>\n",
       "      <td>-0.793540</td>\n",
       "      <td>0.460905</td>\n",
       "    </tr>\n",
       "    <tr>\n",
       "      <th>2002-03-03</th>\n",
       "      <td>0.324083</td>\n",
       "      <td>0.109205</td>\n",
       "      <td>1.488210</td>\n",
       "      <td>0.644773</td>\n",
       "    </tr>\n",
       "    <tr>\n",
       "      <th>2002-03-04</th>\n",
       "      <td>0.737745</td>\n",
       "      <td>-1.191608</td>\n",
       "      <td>-0.314424</td>\n",
       "      <td>-0.926943</td>\n",
       "    </tr>\n",
       "    <tr>\n",
       "      <th>2002-03-05</th>\n",
       "      <td>0.304454</td>\n",
       "      <td>-1.028375</td>\n",
       "      <td>-1.437294</td>\n",
       "      <td>0.731510</td>\n",
       "    </tr>\n",
       "    <tr>\n",
       "      <th>2002-03-06</th>\n",
       "      <td>0.615953</td>\n",
       "      <td>0.362248</td>\n",
       "      <td>-1.097423</td>\n",
       "      <td>-1.702933</td>\n",
       "    </tr>\n",
       "    <tr>\n",
       "      <th>2002-03-07</th>\n",
       "      <td>-0.431374</td>\n",
       "      <td>-0.308464</td>\n",
       "      <td>0.796041</td>\n",
       "      <td>-0.358349</td>\n",
       "    </tr>\n",
       "    <tr>\n",
       "      <th>2002-03-08</th>\n",
       "      <td>-1.332302</td>\n",
       "      <td>-0.507984</td>\n",
       "      <td>0.734601</td>\n",
       "      <td>-2.273382</td>\n",
       "    </tr>\n",
       "    <tr>\n",
       "      <th>2002-03-09</th>\n",
       "      <td>-0.191310</td>\n",
       "      <td>-1.871480</td>\n",
       "      <td>-0.642809</td>\n",
       "      <td>0.068889</td>\n",
       "    </tr>\n",
       "    <tr>\n",
       "      <th>2002-03-10</th>\n",
       "      <td>-1.083530</td>\n",
       "      <td>2.355097</td>\n",
       "      <td>0.097930</td>\n",
       "      <td>0.253730</td>\n",
       "    </tr>\n",
       "  </tbody>\n",
       "</table>\n",
       "</div>"
      ],
      "text/plain": [
       "                   D         C         B         A\n",
       "2002-03-01 -1.754519 -0.372120 -0.323184  0.440661\n",
       "2002-03-02  0.228480  0.076552 -0.793540  0.460905\n",
       "2002-03-03  0.324083  0.109205  1.488210  0.644773\n",
       "2002-03-04  0.737745 -1.191608 -0.314424 -0.926943\n",
       "2002-03-05  0.304454 -1.028375 -1.437294  0.731510\n",
       "2002-03-06  0.615953  0.362248 -1.097423 -1.702933\n",
       "2002-03-07 -0.431374 -0.308464  0.796041 -0.358349\n",
       "2002-03-08 -1.332302 -0.507984  0.734601 -2.273382\n",
       "2002-03-09 -0.191310 -1.871480 -0.642809  0.068889\n",
       "2002-03-10 -1.083530  2.355097  0.097930  0.253730"
      ]
     },
     "execution_count": 40,
     "metadata": {},
     "output_type": "execute_result"
    }
   ],
   "source": [
    "df.sort_index(axis=1,ascending=False)\n",
    "# this sort by index one menas "
   ]
  },
  {
   "cell_type": "code",
   "execution_count": 44,
   "id": "a7dbfbeb",
   "metadata": {},
   "outputs": [
    {
     "data": {
      "text/html": [
       "<div>\n",
       "<style scoped>\n",
       "    .dataframe tbody tr th:only-of-type {\n",
       "        vertical-align: middle;\n",
       "    }\n",
       "\n",
       "    .dataframe tbody tr th {\n",
       "        vertical-align: top;\n",
       "    }\n",
       "\n",
       "    .dataframe thead th {\n",
       "        text-align: right;\n",
       "    }\n",
       "</style>\n",
       "<table border=\"1\" class=\"dataframe\">\n",
       "  <thead>\n",
       "    <tr style=\"text-align: right;\">\n",
       "      <th></th>\n",
       "      <th>A</th>\n",
       "      <th>B</th>\n",
       "      <th>C</th>\n",
       "      <th>D</th>\n",
       "    </tr>\n",
       "  </thead>\n",
       "  <tbody>\n",
       "    <tr>\n",
       "      <th>2002-03-09</th>\n",
       "      <td>0.068889</td>\n",
       "      <td>-0.642809</td>\n",
       "      <td>-1.871480</td>\n",
       "      <td>-0.191310</td>\n",
       "    </tr>\n",
       "    <tr>\n",
       "      <th>2002-03-04</th>\n",
       "      <td>-0.926943</td>\n",
       "      <td>-0.314424</td>\n",
       "      <td>-1.191608</td>\n",
       "      <td>0.737745</td>\n",
       "    </tr>\n",
       "    <tr>\n",
       "      <th>2002-03-05</th>\n",
       "      <td>0.731510</td>\n",
       "      <td>-1.437294</td>\n",
       "      <td>-1.028375</td>\n",
       "      <td>0.304454</td>\n",
       "    </tr>\n",
       "    <tr>\n",
       "      <th>2002-03-08</th>\n",
       "      <td>-2.273382</td>\n",
       "      <td>0.734601</td>\n",
       "      <td>-0.507984</td>\n",
       "      <td>-1.332302</td>\n",
       "    </tr>\n",
       "    <tr>\n",
       "      <th>2002-03-01</th>\n",
       "      <td>0.440661</td>\n",
       "      <td>-0.323184</td>\n",
       "      <td>-0.372120</td>\n",
       "      <td>-1.754519</td>\n",
       "    </tr>\n",
       "    <tr>\n",
       "      <th>2002-03-07</th>\n",
       "      <td>-0.358349</td>\n",
       "      <td>0.796041</td>\n",
       "      <td>-0.308464</td>\n",
       "      <td>-0.431374</td>\n",
       "    </tr>\n",
       "    <tr>\n",
       "      <th>2002-03-02</th>\n",
       "      <td>0.460905</td>\n",
       "      <td>-0.793540</td>\n",
       "      <td>0.076552</td>\n",
       "      <td>0.228480</td>\n",
       "    </tr>\n",
       "    <tr>\n",
       "      <th>2002-03-03</th>\n",
       "      <td>0.644773</td>\n",
       "      <td>1.488210</td>\n",
       "      <td>0.109205</td>\n",
       "      <td>0.324083</td>\n",
       "    </tr>\n",
       "    <tr>\n",
       "      <th>2002-03-06</th>\n",
       "      <td>-1.702933</td>\n",
       "      <td>-1.097423</td>\n",
       "      <td>0.362248</td>\n",
       "      <td>0.615953</td>\n",
       "    </tr>\n",
       "    <tr>\n",
       "      <th>2002-03-10</th>\n",
       "      <td>0.253730</td>\n",
       "      <td>0.097930</td>\n",
       "      <td>2.355097</td>\n",
       "      <td>-1.083530</td>\n",
       "    </tr>\n",
       "  </tbody>\n",
       "</table>\n",
       "</div>"
      ],
      "text/plain": [
       "                   A         B         C         D\n",
       "2002-03-09  0.068889 -0.642809 -1.871480 -0.191310\n",
       "2002-03-04 -0.926943 -0.314424 -1.191608  0.737745\n",
       "2002-03-05  0.731510 -1.437294 -1.028375  0.304454\n",
       "2002-03-08 -2.273382  0.734601 -0.507984 -1.332302\n",
       "2002-03-01  0.440661 -0.323184 -0.372120 -1.754519\n",
       "2002-03-07 -0.358349  0.796041 -0.308464 -0.431374\n",
       "2002-03-02  0.460905 -0.793540  0.076552  0.228480\n",
       "2002-03-03  0.644773  1.488210  0.109205  0.324083\n",
       "2002-03-06 -1.702933 -1.097423  0.362248  0.615953\n",
       "2002-03-10  0.253730  0.097930  2.355097 -1.083530"
      ]
     },
     "execution_count": 44,
     "metadata": {},
     "output_type": "execute_result"
    }
   ],
   "source": [
    "df.sort_values(by='C')\n",
    "# this sort data table by c as we pass sort by c"
   ]
  },
  {
   "cell_type": "code",
   "execution_count": 45,
   "id": "504a3830",
   "metadata": {},
   "outputs": [
    {
     "data": {
      "text/html": [
       "<div>\n",
       "<style scoped>\n",
       "    .dataframe tbody tr th:only-of-type {\n",
       "        vertical-align: middle;\n",
       "    }\n",
       "\n",
       "    .dataframe tbody tr th {\n",
       "        vertical-align: top;\n",
       "    }\n",
       "\n",
       "    .dataframe thead th {\n",
       "        text-align: right;\n",
       "    }\n",
       "</style>\n",
       "<table border=\"1\" class=\"dataframe\">\n",
       "  <thead>\n",
       "    <tr style=\"text-align: right;\">\n",
       "      <th></th>\n",
       "      <th>A</th>\n",
       "      <th>B</th>\n",
       "      <th>C</th>\n",
       "      <th>D</th>\n",
       "    </tr>\n",
       "  </thead>\n",
       "  <tbody>\n",
       "    <tr>\n",
       "      <th>2002-03-01</th>\n",
       "      <td>0.440661</td>\n",
       "      <td>-0.323184</td>\n",
       "      <td>-0.372120</td>\n",
       "      <td>-1.754519</td>\n",
       "    </tr>\n",
       "    <tr>\n",
       "      <th>2002-03-08</th>\n",
       "      <td>-2.273382</td>\n",
       "      <td>0.734601</td>\n",
       "      <td>-0.507984</td>\n",
       "      <td>-1.332302</td>\n",
       "    </tr>\n",
       "    <tr>\n",
       "      <th>2002-03-10</th>\n",
       "      <td>0.253730</td>\n",
       "      <td>0.097930</td>\n",
       "      <td>2.355097</td>\n",
       "      <td>-1.083530</td>\n",
       "    </tr>\n",
       "    <tr>\n",
       "      <th>2002-03-07</th>\n",
       "      <td>-0.358349</td>\n",
       "      <td>0.796041</td>\n",
       "      <td>-0.308464</td>\n",
       "      <td>-0.431374</td>\n",
       "    </tr>\n",
       "    <tr>\n",
       "      <th>2002-03-09</th>\n",
       "      <td>0.068889</td>\n",
       "      <td>-0.642809</td>\n",
       "      <td>-1.871480</td>\n",
       "      <td>-0.191310</td>\n",
       "    </tr>\n",
       "    <tr>\n",
       "      <th>2002-03-02</th>\n",
       "      <td>0.460905</td>\n",
       "      <td>-0.793540</td>\n",
       "      <td>0.076552</td>\n",
       "      <td>0.228480</td>\n",
       "    </tr>\n",
       "    <tr>\n",
       "      <th>2002-03-05</th>\n",
       "      <td>0.731510</td>\n",
       "      <td>-1.437294</td>\n",
       "      <td>-1.028375</td>\n",
       "      <td>0.304454</td>\n",
       "    </tr>\n",
       "    <tr>\n",
       "      <th>2002-03-03</th>\n",
       "      <td>0.644773</td>\n",
       "      <td>1.488210</td>\n",
       "      <td>0.109205</td>\n",
       "      <td>0.324083</td>\n",
       "    </tr>\n",
       "    <tr>\n",
       "      <th>2002-03-06</th>\n",
       "      <td>-1.702933</td>\n",
       "      <td>-1.097423</td>\n",
       "      <td>0.362248</td>\n",
       "      <td>0.615953</td>\n",
       "    </tr>\n",
       "    <tr>\n",
       "      <th>2002-03-04</th>\n",
       "      <td>-0.926943</td>\n",
       "      <td>-0.314424</td>\n",
       "      <td>-1.191608</td>\n",
       "      <td>0.737745</td>\n",
       "    </tr>\n",
       "  </tbody>\n",
       "</table>\n",
       "</div>"
      ],
      "text/plain": [
       "                   A         B         C         D\n",
       "2002-03-01  0.440661 -0.323184 -0.372120 -1.754519\n",
       "2002-03-08 -2.273382  0.734601 -0.507984 -1.332302\n",
       "2002-03-10  0.253730  0.097930  2.355097 -1.083530\n",
       "2002-03-07 -0.358349  0.796041 -0.308464 -0.431374\n",
       "2002-03-09  0.068889 -0.642809 -1.871480 -0.191310\n",
       "2002-03-02  0.460905 -0.793540  0.076552  0.228480\n",
       "2002-03-05  0.731510 -1.437294 -1.028375  0.304454\n",
       "2002-03-03  0.644773  1.488210  0.109205  0.324083\n",
       "2002-03-06 -1.702933 -1.097423  0.362248  0.615953\n",
       "2002-03-04 -0.926943 -0.314424 -1.191608  0.737745"
      ]
     },
     "execution_count": 45,
     "metadata": {},
     "output_type": "execute_result"
    }
   ],
   "source": [
    "df.sort_values(by='D')\n",
    "# sort by D "
   ]
  },
  {
   "cell_type": "markdown",
   "id": "b1048491",
   "metadata": {},
   "source": [
    "# how to select data form data frome "
   ]
  },
  {
   "cell_type": "code",
   "execution_count": 47,
   "id": "35be0a61",
   "metadata": {},
   "outputs": [
    {
     "data": {
      "text/plain": [
       "2002-03-01   -0.372120\n",
       "2002-03-02    0.076552\n",
       "2002-03-03    0.109205\n",
       "2002-03-04   -1.191608\n",
       "2002-03-05   -1.028375\n",
       "2002-03-06    0.362248\n",
       "2002-03-07   -0.308464\n",
       "2002-03-08   -0.507984\n",
       "2002-03-09   -1.871480\n",
       "2002-03-10    2.355097\n",
       "Freq: D, Name: C, dtype: float64"
      ]
     },
     "execution_count": 47,
     "metadata": {},
     "output_type": "execute_result"
    }
   ],
   "source": [
    "df['C']\n",
    "# c column from data frame "
   ]
  },
  {
   "cell_type": "code",
   "execution_count": 49,
   "id": "a42857d1",
   "metadata": {},
   "outputs": [
    {
     "data": {
      "text/html": [
       "<div>\n",
       "<style scoped>\n",
       "    .dataframe tbody tr th:only-of-type {\n",
       "        vertical-align: middle;\n",
       "    }\n",
       "\n",
       "    .dataframe tbody tr th {\n",
       "        vertical-align: top;\n",
       "    }\n",
       "\n",
       "    .dataframe thead th {\n",
       "        text-align: right;\n",
       "    }\n",
       "</style>\n",
       "<table border=\"1\" class=\"dataframe\">\n",
       "  <thead>\n",
       "    <tr style=\"text-align: right;\">\n",
       "      <th></th>\n",
       "      <th>A</th>\n",
       "      <th>B</th>\n",
       "      <th>C</th>\n",
       "      <th>D</th>\n",
       "    </tr>\n",
       "  </thead>\n",
       "  <tbody>\n",
       "    <tr>\n",
       "      <th>2002-03-01</th>\n",
       "      <td>0.440661</td>\n",
       "      <td>-0.323184</td>\n",
       "      <td>-0.372120</td>\n",
       "      <td>-1.754519</td>\n",
       "    </tr>\n",
       "    <tr>\n",
       "      <th>2002-03-02</th>\n",
       "      <td>0.460905</td>\n",
       "      <td>-0.793540</td>\n",
       "      <td>0.076552</td>\n",
       "      <td>0.228480</td>\n",
       "    </tr>\n",
       "    <tr>\n",
       "      <th>2002-03-03</th>\n",
       "      <td>0.644773</td>\n",
       "      <td>1.488210</td>\n",
       "      <td>0.109205</td>\n",
       "      <td>0.324083</td>\n",
       "    </tr>\n",
       "  </tbody>\n",
       "</table>\n",
       "</div>"
      ],
      "text/plain": [
       "                   A         B         C         D\n",
       "2002-03-01  0.440661 -0.323184 -0.372120 -1.754519\n",
       "2002-03-02  0.460905 -0.793540  0.076552  0.228480\n",
       "2002-03-03  0.644773  1.488210  0.109205  0.324083"
      ]
     },
     "execution_count": 49,
     "metadata": {},
     "output_type": "execute_result"
    }
   ],
   "source": [
    "df[0:3]\n",
    "# access the row  from 0 to 2 row from data "
   ]
  },
  {
   "cell_type": "code",
   "execution_count": 51,
   "id": "aec9aac8",
   "metadata": {},
   "outputs": [
    {
     "data": {
      "text/plain": [
       "2002-03-01   -0.372120\n",
       "2002-03-02    0.076552\n",
       "2002-03-03    0.109205\n",
       "Freq: D, Name: C, dtype: float64"
      ]
     },
     "execution_count": 51,
     "metadata": {},
     "output_type": "execute_result"
    }
   ],
   "source": [
    "df['C'][0:3]\n",
    "# acces only row data from data frame "
   ]
  },
  {
   "cell_type": "code",
   "execution_count": 52,
   "id": "6f5bbff7",
   "metadata": {},
   "outputs": [
    {
     "data": {
      "text/plain": [
       "A    0.440661\n",
       "B   -0.323184\n",
       "C   -0.372120\n",
       "D   -1.754519\n",
       "Name: 2002-03-01 00:00:00, dtype: float64"
      ]
     },
     "execution_count": 52,
     "metadata": {},
     "output_type": "execute_result"
    }
   ],
   "source": [
    "# pass value by lable \n",
    "df.loc[d[0]] \n",
    "# label Where we declare "
   ]
  },
  {
   "cell_type": "code",
   "execution_count": 53,
   "id": "bf52659a",
   "metadata": {},
   "outputs": [
    {
     "data": {
      "text/html": [
       "<div>\n",
       "<style scoped>\n",
       "    .dataframe tbody tr th:only-of-type {\n",
       "        vertical-align: middle;\n",
       "    }\n",
       "\n",
       "    .dataframe tbody tr th {\n",
       "        vertical-align: top;\n",
       "    }\n",
       "\n",
       "    .dataframe thead th {\n",
       "        text-align: right;\n",
       "    }\n",
       "</style>\n",
       "<table border=\"1\" class=\"dataframe\">\n",
       "  <thead>\n",
       "    <tr style=\"text-align: right;\">\n",
       "      <th></th>\n",
       "      <th>A</th>\n",
       "      <th>C</th>\n",
       "    </tr>\n",
       "  </thead>\n",
       "  <tbody>\n",
       "    <tr>\n",
       "      <th>2002-03-01</th>\n",
       "      <td>0.440661</td>\n",
       "      <td>-0.372120</td>\n",
       "    </tr>\n",
       "    <tr>\n",
       "      <th>2002-03-02</th>\n",
       "      <td>0.460905</td>\n",
       "      <td>0.076552</td>\n",
       "    </tr>\n",
       "    <tr>\n",
       "      <th>2002-03-03</th>\n",
       "      <td>0.644773</td>\n",
       "      <td>0.109205</td>\n",
       "    </tr>\n",
       "    <tr>\n",
       "      <th>2002-03-04</th>\n",
       "      <td>-0.926943</td>\n",
       "      <td>-1.191608</td>\n",
       "    </tr>\n",
       "    <tr>\n",
       "      <th>2002-03-05</th>\n",
       "      <td>0.731510</td>\n",
       "      <td>-1.028375</td>\n",
       "    </tr>\n",
       "    <tr>\n",
       "      <th>2002-03-06</th>\n",
       "      <td>-1.702933</td>\n",
       "      <td>0.362248</td>\n",
       "    </tr>\n",
       "    <tr>\n",
       "      <th>2002-03-07</th>\n",
       "      <td>-0.358349</td>\n",
       "      <td>-0.308464</td>\n",
       "    </tr>\n",
       "    <tr>\n",
       "      <th>2002-03-08</th>\n",
       "      <td>-2.273382</td>\n",
       "      <td>-0.507984</td>\n",
       "    </tr>\n",
       "    <tr>\n",
       "      <th>2002-03-09</th>\n",
       "      <td>0.068889</td>\n",
       "      <td>-1.871480</td>\n",
       "    </tr>\n",
       "    <tr>\n",
       "      <th>2002-03-10</th>\n",
       "      <td>0.253730</td>\n",
       "      <td>2.355097</td>\n",
       "    </tr>\n",
       "  </tbody>\n",
       "</table>\n",
       "</div>"
      ],
      "text/plain": [
       "                   A         C\n",
       "2002-03-01  0.440661 -0.372120\n",
       "2002-03-02  0.460905  0.076552\n",
       "2002-03-03  0.644773  0.109205\n",
       "2002-03-04 -0.926943 -1.191608\n",
       "2002-03-05  0.731510 -1.028375\n",
       "2002-03-06 -1.702933  0.362248\n",
       "2002-03-07 -0.358349 -0.308464\n",
       "2002-03-08 -2.273382 -0.507984\n",
       "2002-03-09  0.068889 -1.871480\n",
       "2002-03-10  0.253730  2.355097"
      ]
     },
     "execution_count": 53,
     "metadata": {},
     "output_type": "execute_result"
    }
   ],
   "source": [
    "# Multiaccess by lable \n",
    "df.loc[:,['A','C']]"
   ]
  },
  {
   "cell_type": "code",
   "execution_count": 55,
   "id": "0e67eafe",
   "metadata": {},
   "outputs": [
    {
     "data": {
      "text/html": [
       "<div>\n",
       "<style scoped>\n",
       "    .dataframe tbody tr th:only-of-type {\n",
       "        vertical-align: middle;\n",
       "    }\n",
       "\n",
       "    .dataframe tbody tr th {\n",
       "        vertical-align: top;\n",
       "    }\n",
       "\n",
       "    .dataframe thead th {\n",
       "        text-align: right;\n",
       "    }\n",
       "</style>\n",
       "<table border=\"1\" class=\"dataframe\">\n",
       "  <thead>\n",
       "    <tr style=\"text-align: right;\">\n",
       "      <th></th>\n",
       "      <th>C</th>\n",
       "      <th>D</th>\n",
       "    </tr>\n",
       "  </thead>\n",
       "  <tbody>\n",
       "    <tr>\n",
       "      <th>2002-03-06</th>\n",
       "      <td>0.362248</td>\n",
       "      <td>0.615953</td>\n",
       "    </tr>\n",
       "    <tr>\n",
       "      <th>2002-03-07</th>\n",
       "      <td>-0.308464</td>\n",
       "      <td>-0.431374</td>\n",
       "    </tr>\n",
       "    <tr>\n",
       "      <th>2002-03-08</th>\n",
       "      <td>-0.507984</td>\n",
       "      <td>-1.332302</td>\n",
       "    </tr>\n",
       "    <tr>\n",
       "      <th>2002-03-09</th>\n",
       "      <td>-1.871480</td>\n",
       "      <td>-0.191310</td>\n",
       "    </tr>\n",
       "    <tr>\n",
       "      <th>2002-03-10</th>\n",
       "      <td>2.355097</td>\n",
       "      <td>-1.083530</td>\n",
       "    </tr>\n",
       "  </tbody>\n",
       "</table>\n",
       "</div>"
      ],
      "text/plain": [
       "                   C         D\n",
       "2002-03-06  0.362248  0.615953\n",
       "2002-03-07 -0.308464 -0.431374\n",
       "2002-03-08 -0.507984 -1.332302\n",
       "2002-03-09 -1.871480 -0.191310\n",
       "2002-03-10  2.355097 -1.083530"
      ]
     },
     "execution_count": 55,
     "metadata": {},
     "output_type": "execute_result"
    }
   ],
   "source": [
    "df.loc['20020306':'20020310',['C','D']]\n",
    "# access label form index frame "
   ]
  },
  {
   "cell_type": "code",
   "execution_count": 57,
   "id": "f3a605df",
   "metadata": {},
   "outputs": [
    {
     "data": {
      "text/plain": [
       "C    0.362248\n",
       "D    0.615953\n",
       "Name: 2002-03-06 00:00:00, dtype: float64"
      ]
     },
     "execution_count": 57,
     "metadata": {},
     "output_type": "execute_result"
    }
   ],
   "source": [
    "df.loc['20020306',['C','D']]\n",
    "#for only one value we can just pass only one value "
   ]
  },
  {
   "cell_type": "code",
   "execution_count": 58,
   "id": "4a3d1b20",
   "metadata": {},
   "outputs": [
    {
     "data": {
      "text/plain": [
       "-0.3721200601631624"
      ]
     },
     "execution_count": 58,
     "metadata": {},
     "output_type": "execute_result"
    }
   ],
   "source": [
    "df.at[d[0],'C']"
   ]
  },
  {
   "cell_type": "code",
   "execution_count": 60,
   "id": "db7223a2",
   "metadata": {},
   "outputs": [
    {
     "data": {
      "text/html": [
       "<div>\n",
       "<style scoped>\n",
       "    .dataframe tbody tr th:only-of-type {\n",
       "        vertical-align: middle;\n",
       "    }\n",
       "\n",
       "    .dataframe tbody tr th {\n",
       "        vertical-align: top;\n",
       "    }\n",
       "\n",
       "    .dataframe thead th {\n",
       "        text-align: right;\n",
       "    }\n",
       "</style>\n",
       "<table border=\"1\" class=\"dataframe\">\n",
       "  <thead>\n",
       "    <tr style=\"text-align: right;\">\n",
       "      <th></th>\n",
       "      <th>A</th>\n",
       "      <th>B</th>\n",
       "      <th>C</th>\n",
       "      <th>D</th>\n",
       "    </tr>\n",
       "  </thead>\n",
       "  <tbody>\n",
       "    <tr>\n",
       "      <th>2002-03-01</th>\n",
       "      <td>0.440661</td>\n",
       "      <td>-0.323184</td>\n",
       "      <td>-0.372120</td>\n",
       "      <td>-1.754519</td>\n",
       "    </tr>\n",
       "    <tr>\n",
       "      <th>2002-03-02</th>\n",
       "      <td>0.460905</td>\n",
       "      <td>-0.793540</td>\n",
       "      <td>0.076552</td>\n",
       "      <td>0.228480</td>\n",
       "    </tr>\n",
       "    <tr>\n",
       "      <th>2002-03-03</th>\n",
       "      <td>0.644773</td>\n",
       "      <td>1.488210</td>\n",
       "      <td>0.109205</td>\n",
       "      <td>0.324083</td>\n",
       "    </tr>\n",
       "    <tr>\n",
       "      <th>2002-03-05</th>\n",
       "      <td>0.731510</td>\n",
       "      <td>-1.437294</td>\n",
       "      <td>-1.028375</td>\n",
       "      <td>0.304454</td>\n",
       "    </tr>\n",
       "    <tr>\n",
       "      <th>2002-03-09</th>\n",
       "      <td>0.068889</td>\n",
       "      <td>-0.642809</td>\n",
       "      <td>-1.871480</td>\n",
       "      <td>-0.191310</td>\n",
       "    </tr>\n",
       "    <tr>\n",
       "      <th>2002-03-10</th>\n",
       "      <td>0.253730</td>\n",
       "      <td>0.097930</td>\n",
       "      <td>2.355097</td>\n",
       "      <td>-1.083530</td>\n",
       "    </tr>\n",
       "  </tbody>\n",
       "</table>\n",
       "</div>"
      ],
      "text/plain": [
       "                   A         B         C         D\n",
       "2002-03-01  0.440661 -0.323184 -0.372120 -1.754519\n",
       "2002-03-02  0.460905 -0.793540  0.076552  0.228480\n",
       "2002-03-03  0.644773  1.488210  0.109205  0.324083\n",
       "2002-03-05  0.731510 -1.437294 -1.028375  0.304454\n",
       "2002-03-09  0.068889 -0.642809 -1.871480 -0.191310\n",
       "2002-03-10  0.253730  0.097930  2.355097 -1.083530"
      ]
     },
     "execution_count": 60,
     "metadata": {},
     "output_type": "execute_result"
    }
   ],
   "source": [
    "df[df['A']>0]\n",
    "# it return only value which is greater than the 0"
   ]
  },
  {
   "cell_type": "code",
   "execution_count": 62,
   "id": "17db8431",
   "metadata": {},
   "outputs": [
    {
     "data": {
      "text/html": [
       "<div>\n",
       "<style scoped>\n",
       "    .dataframe tbody tr th:only-of-type {\n",
       "        vertical-align: middle;\n",
       "    }\n",
       "\n",
       "    .dataframe tbody tr th {\n",
       "        vertical-align: top;\n",
       "    }\n",
       "\n",
       "    .dataframe thead th {\n",
       "        text-align: right;\n",
       "    }\n",
       "</style>\n",
       "<table border=\"1\" class=\"dataframe\">\n",
       "  <thead>\n",
       "    <tr style=\"text-align: right;\">\n",
       "      <th></th>\n",
       "      <th>A</th>\n",
       "      <th>B</th>\n",
       "      <th>C</th>\n",
       "      <th>D</th>\n",
       "    </tr>\n",
       "  </thead>\n",
       "  <tbody>\n",
       "    <tr>\n",
       "      <th>2002-03-04</th>\n",
       "      <td>-0.926943</td>\n",
       "      <td>-0.314424</td>\n",
       "      <td>-1.191608</td>\n",
       "      <td>0.737745</td>\n",
       "    </tr>\n",
       "    <tr>\n",
       "      <th>2002-03-06</th>\n",
       "      <td>-1.702933</td>\n",
       "      <td>-1.097423</td>\n",
       "      <td>0.362248</td>\n",
       "      <td>0.615953</td>\n",
       "    </tr>\n",
       "    <tr>\n",
       "      <th>2002-03-07</th>\n",
       "      <td>-0.358349</td>\n",
       "      <td>0.796041</td>\n",
       "      <td>-0.308464</td>\n",
       "      <td>-0.431374</td>\n",
       "    </tr>\n",
       "    <tr>\n",
       "      <th>2002-03-08</th>\n",
       "      <td>-2.273382</td>\n",
       "      <td>0.734601</td>\n",
       "      <td>-0.507984</td>\n",
       "      <td>-1.332302</td>\n",
       "    </tr>\n",
       "  </tbody>\n",
       "</table>\n",
       "</div>"
      ],
      "text/plain": [
       "                   A         B         C         D\n",
       "2002-03-04 -0.926943 -0.314424 -1.191608  0.737745\n",
       "2002-03-06 -1.702933 -1.097423  0.362248  0.615953\n",
       "2002-03-07 -0.358349  0.796041 -0.308464 -0.431374\n",
       "2002-03-08 -2.273382  0.734601 -0.507984 -1.332302"
      ]
     },
     "execution_count": 62,
     "metadata": {},
     "output_type": "execute_result"
    }
   ],
   "source": [
    "df[df['A']<0]\n",
    "# it return all-ve value "
   ]
  },
  {
   "cell_type": "code",
   "execution_count": 63,
   "id": "12a647d2",
   "metadata": {},
   "outputs": [
    {
     "data": {
      "text/html": [
       "<div>\n",
       "<style scoped>\n",
       "    .dataframe tbody tr th:only-of-type {\n",
       "        vertical-align: middle;\n",
       "    }\n",
       "\n",
       "    .dataframe tbody tr th {\n",
       "        vertical-align: top;\n",
       "    }\n",
       "\n",
       "    .dataframe thead th {\n",
       "        text-align: right;\n",
       "    }\n",
       "</style>\n",
       "<table border=\"1\" class=\"dataframe\">\n",
       "  <thead>\n",
       "    <tr style=\"text-align: right;\">\n",
       "      <th></th>\n",
       "      <th>A</th>\n",
       "      <th>B</th>\n",
       "      <th>C</th>\n",
       "      <th>D</th>\n",
       "    </tr>\n",
       "  </thead>\n",
       "  <tbody>\n",
       "  </tbody>\n",
       "</table>\n",
       "</div>"
      ],
      "text/plain": [
       "Empty DataFrame\n",
       "Columns: [A, B, C, D]\n",
       "Index: []"
      ]
     },
     "execution_count": 63,
     "metadata": {},
     "output_type": "execute_result"
    }
   ],
   "source": [
    "df[df['A']>2]"
   ]
  },
  {
   "cell_type": "code",
   "execution_count": null,
   "id": "d37bd36d",
   "metadata": {},
   "outputs": [],
   "source": [
    "# method "
   ]
  }
 ],
 "metadata": {
  "kernelspec": {
   "display_name": "Python 3 (ipykernel)",
   "language": "python",
   "name": "python3"
  },
  "language_info": {
   "codemirror_mode": {
    "name": "ipython",
    "version": 3
   },
   "file_extension": ".py",
   "mimetype": "text/x-python",
   "name": "python",
   "nbconvert_exporter": "python",
   "pygments_lexer": "ipython3",
   "version": "3.9.12"
  }
 },
 "nbformat": 4,
 "nbformat_minor": 5
}
